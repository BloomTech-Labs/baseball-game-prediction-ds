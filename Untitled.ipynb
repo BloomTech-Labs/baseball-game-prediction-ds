{
 "cells": [
  {
   "cell_type": "code",
   "execution_count": 8,
   "metadata": {},
   "outputs": [],
   "source": [
    "import json\n",
    "import pickle \n",
    "import requests"
   ]
  },
  {
   "cell_type": "code",
   "execution_count": 3,
   "metadata": {},
   "outputs": [],
   "source": [
    "model_name = 'cat_pickle.pkl'"
   ]
  },
  {
   "cell_type": "code",
   "execution_count": 4,
   "metadata": {},
   "outputs": [],
   "source": [
    "loaded_model = pickle.load(open(model_name, 'rb'))\n"
   ]
  },
  {
   "cell_type": "code",
   "execution_count": 6,
   "metadata": {},
   "outputs": [],
   "source": [
    "url =\" http://127.0.0.1:5000/\"\n",
    "dats = {\"date\": 20080612,\"game_num\": 0,\"day_of_week\": \"Thu\",\n",
    " \"visiting_team\": \"MIN\", \"visiting_team_league\": \"AL\",\n",
    " \"visiting_game_num\": 67, \"home_team\": \"CLE\",\n",
    " \"home_team_league\": \"AL\", \"home_team_game_num\": 67,\n",
    " \"day_night\": \"N\", \"park_id\": \"CLE08\",\n",
    " \"visiting_manager_name\": \"Ron Gardenhire\",\n",
    " \"home_manager_name\": \"Eric Wedge\",\n",
    " \"visiting_starting_pitcher_name\": \"Livan Hernandez\",\n",
    " \"home_starting_pitcher_name\": \"Aaron Laffey\",\n",
    " \"visiting_1_name\": \"Carlos Gomez\",\n",
    " \"visiting_1_pos\": 8, \"visiting_2_name\": \"Alexi Casilla\",\n",
    " \"visiting_2_pos\": 4, \"visiting_3_name\": \"Joe Mauer\",\n",
    " \"visiting_3_pos\": 2, \"visiting_4_name\": \"Justin Morneau\",\n",
    " \"visiting_4_pos\": 3, \"visiting_5_name\": \"Michael Cuddyer\",\n",
    " \"visiting_5_pos\": 9, \"visiting_6_name\": \"Jason Kubel\",\n",
    " \"visiting_6_pos\": 7, \"visiting_7_name\": \"Craig Monroe\",\n",
    " \"visiting_7_pos\": 10, \"visiting_8_name\": \"Brendan Harris\",\n",
    " \"visiting_8_pos\": 6, \"visiting_9_name\": \"Matt Macri\",\n",
    " \"visiting_9_pos\": 5, \"home_1_name\": \"Grady Sizemore\",\n",
    " \"home_1_pos\": 8, \"home_2_name\": \"Jamey Carroll\",\n",
    " \"home_2_pos\": 4, \"home_3_name\": \"Ben Francisco\",\n",
    " \"home_3_pos\": 7, \"home_4_name\": \"Ryan Garko\",\n",
    " \"home_4_pos\": 3, \"home_5_name\": \"David Dellucci\",\n",
    " \"home_5_pos\": 10, \"home_6_name\": \"Jhonny Peralta\",\n",
    " \"home_6_pos\": 6, \"home_7_name\": \"Shin-Soo Choo\",\n",
    " \"home_7_pos\": 9, \"home_8_name\": \"Casey Blake\",\n",
    " \"home_8_pos\": 5, \"home_9_name\": \"Kelly Shoppach\",\n",
    " \"home_9_pos\": 2}\n",
    " \n",
    "datsa = json.dumps(dats)"
   ]
  },
  {
   "cell_type": "code",
   "execution_count": 12,
   "metadata": {},
   "outputs": [
    {
     "name": "stdout",
     "output_type": "stream",
     "text": [
      "<Response [500]>\n"
     ]
    }
   ],
   "source": [
    "test_req = requests.post(url,datsa)\n",
    "print(test_req)"
   ]
  },
  {
   "cell_type": "code",
   "execution_count": 10,
   "metadata": {},
   "outputs": [
    {
     "name": "stdout",
     "output_type": "stream",
     "text": [
      "/c/Users/dakot/Documents/GitHub/baseball-game-prediction-ds\n"
     ]
    },
    {
     "name": "stderr",
     "output_type": "stream",
     "text": [
      "The system cannot find the path specified.\n"
     ]
    }
   ],
   "source": [
    "!pwd"
   ]
  },
  {
   "cell_type": "code",
   "execution_count": null,
   "metadata": {},
   "outputs": [],
   "source": []
  }
 ],
 "metadata": {
  "kernelspec": {
   "display_name": "Python 3",
   "language": "python",
   "name": "python3"
  },
  "language_info": {
   "codemirror_mode": {
    "name": "ipython",
    "version": 3
   },
   "file_extension": ".py",
   "mimetype": "text/x-python",
   "name": "python",
   "nbconvert_exporter": "python",
   "pygments_lexer": "ipython3",
   "version": "3.7.3"
  }
 },
 "nbformat": 4,
 "nbformat_minor": 2
}
