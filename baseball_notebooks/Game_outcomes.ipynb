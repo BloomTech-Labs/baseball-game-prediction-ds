{
 "cells": [
  {
   "cell_type": "code",
   "execution_count": null,
   "metadata": {},
   "outputs": [],
   "source": []
  },
  {
   "cell_type": "code",
   "execution_count": 46,
   "metadata": {},
   "outputs": [],
   "source": [
    "import pybaseball as pb \n",
    "import pandas as pd \n",
    "import numpy as np \n",
    "import matplotlib.pyplot as plt\n",
    "from pybaseball import statcast\n",
    "import glob\n",
    "import pandas_profiling as pp\n",
    "from sklearn.model_selection import train_test_split as tts\n",
    "from sklearn.linear_model import LogisticRegression as lr, LogisticRegressionCV as lrcv"
   ]
  },
  {
   "cell_type": "code",
   "execution_count": 47,
   "metadata": {},
   "outputs": [],
   "source": [
    "pd.set_option('display.max_rows', 500)\n",
    "pd.set_option('display.max_columns', 500)\n",
    "pd.set_option('display.width', 1000)"
   ]
  },
  {
   "cell_type": "code",
   "execution_count": 48,
   "metadata": {},
   "outputs": [],
   "source": [
    "gbg = pb.retrosheet.season_game_logs(2008)"
   ]
  },
  {
   "cell_type": "code",
   "execution_count": 49,
   "metadata": {},
   "outputs": [],
   "source": [
    "seasons = []\n",
    "for x in range(2008,2020,1):\n",
    "    seasons.append(x)"
   ]
  },
  {
   "cell_type": "code",
   "execution_count": 50,
   "metadata": {},
   "outputs": [
    {
     "data": {
      "text/plain": "2019"
     },
     "execution_count": 50,
     "metadata": {},
     "output_type": "execute_result"
    }
   ],
   "source": [
    "seasons.pop()"
   ]
  },
  {
   "cell_type": "code",
   "execution_count": 51,
   "metadata": {},
   "outputs": [
    {
     "data": {
      "text/plain": "[2008, 2009, 2010, 2011, 2012, 2013, 2014, 2015, 2016, 2017, 2018]"
     },
     "execution_count": 51,
     "metadata": {},
     "output_type": "execute_result"
    }
   ],
   "source": [
    "seasons"
   ]
  },
  {
   "cell_type": "code",
   "execution_count": 52,
   "metadata": {},
   "outputs": [],
   "source": [
    "def season_pull(year):\n",
    "    name = 'overall_'+str(year)\n",
    "    '''Pull from retrosheet for season indicated by year \n",
    "    EX: season_pull(2008) returns a DataFrame containing \n",
    "    the entire game by game for the 2008 MLB Season'''\n",
    "    df=pb.retrosheet.season_game_logs(year)\n",
    "    df.to_csv('C:\\\\Users\\\\dakot\\\\Documents\\GitHub\\\\baseball-game-prediction-ds\\\\baseball_notebooks\\\\Data\\\\'+name+'.csv' )\n",
    "    return df"
   ]
  },
  {
   "cell_type": "code",
   "execution_count": 53,
   "metadata": {},
   "outputs": [],
   "source": [
    "for x in seasons:\n",
    "    season_pull(x)"
   ]
  },
  {
   "cell_type": "code",
   "execution_count": 68,
   "metadata": {},
   "outputs": [],
   "source": [
    "df = pd.read_csv('C:\\\\Users\\\\dakot\\\\Documents\\\\GitHub\\\\baseball-game-prediction-ds\\\\baseball_notebooks\\\\Data\\\\overall_2008.csv')\n",
    "cols = []\n",
    "for x in df.columns:\n",
    "    cols.append(x)"
   ]
  },
  {
   "cell_type": "code",
   "execution_count": 69,
   "metadata": {},
   "outputs": [
    {
     "data": {
      "text/plain": "'Unnamed: 0'"
     },
     "execution_count": 69,
     "metadata": {},
     "output_type": "execute_result"
    }
   ],
   "source": [
    "cols.pop(0)"
   ]
  },
  {
   "cell_type": "code",
   "execution_count": 71,
   "metadata": {},
   "outputs": [],
   "source": [
    "path = 'C:\\\\Users\\\\dakot\\Documents\\\\GitHub\\\\baseball-game-prediction-ds\\\\baseball_notebooks\\\\Data' # use your path\n",
    "all_files = glob.glob(path + \"/*.csv\")\n",
    "\n",
    "li = []\n",
    "\n",
    "for filename in all_files:\n",
    "    df = pd.read_csv(filename,usecols=cols,index_col=None)\n",
    "    li.append(df)\n",
    "\n",
    "frame = pd.concat(li, axis=0)"
   ]
  },
  {
   "cell_type": "code",
   "execution_count": 72,
   "metadata": {},
   "outputs": [
    {
     "data": {
      "text/plain": "(26726, 161)"
     },
     "execution_count": 72,
     "metadata": {},
     "output_type": "execute_result"
    }
   ],
   "source": [
    "frame.shape"
   ]
  },
  {
   "cell_type": "code",
   "execution_count": 73,
   "metadata": {},
   "outputs": [
    {
     "data": {
      "text/html": "<div>\n<style scoped>\n    .dataframe tbody tr th:only-of-type {\n        vertical-align: middle;\n    }\n\n    .dataframe tbody tr th {\n        vertical-align: top;\n    }\n\n    .dataframe thead th {\n        text-align: right;\n    }\n</style>\n<table border=\"1\" class=\"dataframe\">\n  <thead>\n    <tr style=\"text-align: right;\">\n      <th></th>\n      <th>date</th>\n      <th>game_num</th>\n      <th>day_of_week</th>\n      <th>visiting_team</th>\n      <th>visiting_team_league</th>\n      <th>visiting_game_num</th>\n      <th>home_team</th>\n      <th>home_team_league</th>\n      <th>home_team_game_num</th>\n      <th>visiting_score</th>\n      <th>home_score</th>\n      <th>num_outs</th>\n      <th>day_night</th>\n      <th>completion_info</th>\n      <th>forfeit_info</th>\n      <th>protest_info</th>\n      <th>park_id</th>\n      <th>attendance</th>\n      <th>time_of_game_minutes</th>\n      <th>visiting_line_score</th>\n      <th>home_line_score</th>\n      <th>visiting_abs</th>\n      <th>visiting_hits</th>\n      <th>visiting_doubles</th>\n      <th>visiting_triples</th>\n      <th>visiting_homeruns</th>\n      <th>visiting_rbi</th>\n      <th>visiting_sac_hits</th>\n      <th>visiting_sac_flies</th>\n      <th>visiting_hbp</th>\n      <th>visiting_bb</th>\n      <th>visiting_iw</th>\n      <th>visiting_k</th>\n      <th>visiting_sb</th>\n      <th>visiting_cs</th>\n      <th>visiting_gdp</th>\n      <th>visiting_ci</th>\n      <th>visiting_lob</th>\n      <th>visiting_pitchers_used</th>\n      <th>visiting_individual_er</th>\n      <th>visiting_er</th>\n      <th>visiting__wp</th>\n      <th>visiting_balks</th>\n      <th>visiting_po</th>\n      <th>visiting_assists</th>\n      <th>visiting_errors</th>\n      <th>visiting_pb</th>\n      <th>visiting_dp</th>\n      <th>visiting_tp</th>\n      <th>home_abs</th>\n      <th>home_hits</th>\n      <th>home_doubles</th>\n      <th>home_triples</th>\n      <th>home_homeruns</th>\n      <th>home_rbi</th>\n      <th>home_sac_hits</th>\n      <th>home_sac_flies</th>\n      <th>home_hbp</th>\n      <th>home_bb</th>\n      <th>home_iw</th>\n      <th>home_k</th>\n      <th>home_sb</th>\n      <th>home_cs</th>\n      <th>home_gdp</th>\n      <th>home_ci</th>\n      <th>home_lob</th>\n      <th>home_pitchers_used</th>\n      <th>home_individual_er</th>\n      <th>home_er</th>\n      <th>home_wp</th>\n      <th>home_balks</th>\n      <th>home_po</th>\n      <th>home_assists</th>\n      <th>home_errors</th>\n      <th>home_pb</th>\n      <th>home_dp</th>\n      <th>home_tp</th>\n      <th>ump_home_id</th>\n      <th>ump_home_name</th>\n      <th>ump_first_id</th>\n      <th>ump_first_name</th>\n      <th>ump_second_id</th>\n      <th>ump_second_name</th>\n      <th>ump_third_id</th>\n      <th>ump_third_name</th>\n      <th>ump_lf_id</th>\n      <th>ump_lf_name</th>\n      <th>ump_rf_id</th>\n      <th>ump_rf_name</th>\n      <th>visiting_manager_id</th>\n      <th>visiting_manager_name</th>\n      <th>home_manager_id</th>\n      <th>home_manager_name</th>\n      <th>winning_pitcher_id</th>\n      <th>winning_pitcher_name</th>\n      <th>losing_pitcher_id</th>\n      <th>losing_pitcher_name</th>\n      <th>save_pitcher_id</th>\n      <th>save_pitcher_name</th>\n      <th>game_winning_rbi_id</th>\n      <th>game_winning_rbi_name</th>\n      <th>visiting_starting_pitcher_id</th>\n      <th>visiting_starting_pitcher_name</th>\n      <th>home_starting_pitcher_id</th>\n      <th>home_starting_pitcher_name</th>\n      <th>visiting_1_id</th>\n      <th>visiting_1_name</th>\n      <th>visiting_1_pos</th>\n      <th>visiting_2_id</th>\n      <th>visiting_2_name</th>\n      <th>visiting_2_pos</th>\n      <th>visiting_2_id.1</th>\n      <th>visiting_3_name</th>\n      <th>visiting_3_pos</th>\n      <th>visiting_4_id</th>\n      <th>visiting_4_name</th>\n      <th>visiting_4_pos</th>\n      <th>visiting_5_id</th>\n      <th>visiting_5_name</th>\n      <th>visiting_5_pos</th>\n      <th>visiting_6_id</th>\n      <th>visiting_6_name</th>\n      <th>visiting_6_pos</th>\n      <th>visiting_7_id</th>\n      <th>visiting_7_name</th>\n      <th>visiting_7_pos</th>\n      <th>visiting_8_id</th>\n      <th>visiting_8_name</th>\n      <th>visiting_8_pos</th>\n      <th>visiting_9_id</th>\n      <th>visiting_9_name</th>\n      <th>visiting_9_pos</th>\n      <th>home_1_id</th>\n      <th>home_1_name</th>\n      <th>home_1_pos</th>\n      <th>home_2_id</th>\n      <th>home_2_name</th>\n      <th>home_2_pos</th>\n      <th>home_3_id</th>\n      <th>home_3_name</th>\n      <th>home_3_pos</th>\n      <th>home_4_id</th>\n      <th>home_4_name</th>\n      <th>home_4_pos</th>\n      <th>home_5_id</th>\n      <th>home_5_name</th>\n      <th>home_5_pos</th>\n      <th>home_6_id</th>\n      <th>home_6_name</th>\n      <th>home_6_pos</th>\n      <th>home_7_id</th>\n      <th>home_7_name</th>\n      <th>home_7_pos</th>\n      <th>home_8_id</th>\n      <th>home_8_name</th>\n      <th>home_8_pos</th>\n      <th>home_9_id</th>\n      <th>home_9_name</th>\n      <th>home_9_pos</th>\n      <th>misc</th>\n      <th>acquisition_info</th>\n    </tr>\n  </thead>\n  <tbody>\n    <tr>\n      <th>0</th>\n      <td>20080325</td>\n      <td>0</td>\n      <td>Tue</td>\n      <td>BOS</td>\n      <td>AL</td>\n      <td>1</td>\n      <td>OAK</td>\n      <td>AL</td>\n      <td>1</td>\n      <td>6</td>\n      <td>5</td>\n      <td>60</td>\n      <td>N</td>\n      <td>NaN</td>\n      <td>NaN</td>\n      <td>NaN</td>\n      <td>TOK01</td>\n      <td>44628.0</td>\n      <td>219</td>\n      <td>0000030012</td>\n      <td>2000020001</td>\n      <td>38</td>\n      <td>11</td>\n      <td>3</td>\n      <td>0</td>\n      <td>1</td>\n      <td>6</td>\n      <td>1</td>\n      <td>0</td>\n      <td>0</td>\n      <td>3</td>\n      <td>2</td>\n      <td>7</td>\n      <td>0</td>\n      <td>0</td>\n      <td>2</td>\n      <td>0</td>\n      <td>6</td>\n      <td>6</td>\n      <td>5</td>\n      <td>5</td>\n      <td>1</td>\n      <td>0</td>\n      <td>30</td>\n      <td>15</td>\n      <td>0</td>\n      <td>0</td>\n      <td>0</td>\n      <td>0</td>\n      <td>36</td>\n      <td>7</td>\n      <td>1</td>\n      <td>0</td>\n      <td>2</td>\n      <td>5</td>\n      <td>0</td>\n      <td>0</td>\n      <td>1</td>\n      <td>7</td>\n      <td>0</td>\n      <td>10</td>\n      <td>1</td>\n      <td>0</td>\n      <td>0</td>\n      <td>0</td>\n      <td>9</td>\n      <td>5</td>\n      <td>6</td>\n      <td>6</td>\n      <td>0</td>\n      <td>0</td>\n      <td>30</td>\n      <td>12</td>\n      <td>0</td>\n      <td>0</td>\n      <td>2</td>\n      <td>0</td>\n      <td>reedr901</td>\n      <td>Rick Reed</td>\n      <td>wendh902</td>\n      <td>Hunter Wendelstedt</td>\n      <td>timmt901</td>\n      <td>Tim Timmons</td>\n      <td>nauep901</td>\n      <td>Paul Nauert</td>\n      <td>NaN</td>\n      <td>(none)</td>\n      <td>NaN</td>\n      <td>(none)</td>\n      <td>frant001</td>\n      <td>Terry Francona</td>\n      <td>gereb001</td>\n      <td>Bob Geren</td>\n      <td>okajh001</td>\n      <td>Hideki Okajima</td>\n      <td>streh001</td>\n      <td>Huston Street</td>\n      <td>papej001</td>\n      <td>Jonathan Papelbon</td>\n      <td>ramim002</td>\n      <td>Manny Ramirez</td>\n      <td>matsd001</td>\n      <td>Daisuke Matsuzaka</td>\n      <td>blanj001</td>\n      <td>Joe Blanton</td>\n      <td>pedrd001</td>\n      <td>Dustin Pedroia</td>\n      <td>4</td>\n      <td>youkk001</td>\n      <td>Kevin Youkilis</td>\n      <td>3</td>\n      <td>ortid001</td>\n      <td>David Ortiz</td>\n      <td>10</td>\n      <td>ramim002</td>\n      <td>Manny Ramirez</td>\n      <td>7</td>\n      <td>lowem001</td>\n      <td>Mike Lowell</td>\n      <td>5</td>\n      <td>mossb001</td>\n      <td>Brandon Moss</td>\n      <td>9</td>\n      <td>varij001</td>\n      <td>Jason Varitek</td>\n      <td>2</td>\n      <td>ellsj001</td>\n      <td>Jacoby Ellsbury</td>\n      <td>8</td>\n      <td>lugoj001</td>\n      <td>Julio Lugo</td>\n      <td>6</td>\n      <td>buckt001</td>\n      <td>Travis Buck</td>\n      <td>9</td>\n      <td>ellim001</td>\n      <td>Mark Ellis</td>\n      <td>4</td>\n      <td>bartd001</td>\n      <td>Daric Barton</td>\n      <td>3</td>\n      <td>custj001</td>\n      <td>Jack Cust</td>\n      <td>10</td>\n      <td>browe001</td>\n      <td>Emil Brown</td>\n      <td>7</td>\n      <td>crosb002</td>\n      <td>Bobby Crosby</td>\n      <td>6</td>\n      <td>hannj001</td>\n      <td>Jack Hannahan</td>\n      <td>5</td>\n      <td>suzuk001</td>\n      <td>Kurt Suzuki</td>\n      <td>2</td>\n      <td>sweer001</td>\n      <td>Ryan Sweeney</td>\n      <td>8</td>\n      <td>NaN</td>\n      <td>Y</td>\n    </tr>\n    <tr>\n      <th>1</th>\n      <td>20080326</td>\n      <td>0</td>\n      <td>Wed</td>\n      <td>BOS</td>\n      <td>AL</td>\n      <td>2</td>\n      <td>OAK</td>\n      <td>AL</td>\n      <td>2</td>\n      <td>1</td>\n      <td>5</td>\n      <td>51</td>\n      <td>N</td>\n      <td>NaN</td>\n      <td>NaN</td>\n      <td>NaN</td>\n      <td>TOK01</td>\n      <td>44735.0</td>\n      <td>171</td>\n      <td>000001000</td>\n      <td>01300001x</td>\n      <td>31</td>\n      <td>5</td>\n      <td>1</td>\n      <td>0</td>\n      <td>1</td>\n      <td>1</td>\n      <td>0</td>\n      <td>0</td>\n      <td>0</td>\n      <td>3</td>\n      <td>0</td>\n      <td>13</td>\n      <td>1</td>\n      <td>0</td>\n      <td>2</td>\n      <td>0</td>\n      <td>6</td>\n      <td>5</td>\n      <td>5</td>\n      <td>5</td>\n      <td>0</td>\n      <td>0</td>\n      <td>24</td>\n      <td>8</td>\n      <td>0</td>\n      <td>0</td>\n      <td>0</td>\n      <td>0</td>\n      <td>33</td>\n      <td>9</td>\n      <td>3</td>\n      <td>0</td>\n      <td>1</td>\n      <td>5</td>\n      <td>0</td>\n      <td>0</td>\n      <td>0</td>\n      <td>4</td>\n      <td>0</td>\n      <td>7</td>\n      <td>0</td>\n      <td>0</td>\n      <td>0</td>\n      <td>0</td>\n      <td>8</td>\n      <td>4</td>\n      <td>1</td>\n      <td>1</td>\n      <td>1</td>\n      <td>0</td>\n      <td>27</td>\n      <td>5</td>\n      <td>1</td>\n      <td>0</td>\n      <td>2</td>\n      <td>0</td>\n      <td>wendh902</td>\n      <td>Hunter Wendelstedt</td>\n      <td>timmt901</td>\n      <td>Tim Timmons</td>\n      <td>nauep901</td>\n      <td>Paul Nauert</td>\n      <td>reedr901</td>\n      <td>Rick Reed</td>\n      <td>NaN</td>\n      <td>(none)</td>\n      <td>NaN</td>\n      <td>(none)</td>\n      <td>frant001</td>\n      <td>Terry Francona</td>\n      <td>gereb001</td>\n      <td>Bob Geren</td>\n      <td>hardr001</td>\n      <td>Rich Harden</td>\n      <td>lestj001</td>\n      <td>Jon Lester</td>\n      <td>NaN</td>\n      <td>(none)</td>\n      <td>denoc001</td>\n      <td>Chris Denorfia</td>\n      <td>lestj001</td>\n      <td>Jon Lester</td>\n      <td>hardr001</td>\n      <td>Rich Harden</td>\n      <td>pedrd001</td>\n      <td>Dustin Pedroia</td>\n      <td>4</td>\n      <td>youkk001</td>\n      <td>Kevin Youkilis</td>\n      <td>3</td>\n      <td>ortid001</td>\n      <td>David Ortiz</td>\n      <td>10</td>\n      <td>ramim002</td>\n      <td>Manny Ramirez</td>\n      <td>7</td>\n      <td>lowem001</td>\n      <td>Mike Lowell</td>\n      <td>5</td>\n      <td>mossb001</td>\n      <td>Brandon Moss</td>\n      <td>9</td>\n      <td>varij001</td>\n      <td>Jason Varitek</td>\n      <td>2</td>\n      <td>crisc001</td>\n      <td>Coco Crisp</td>\n      <td>8</td>\n      <td>lugoj001</td>\n      <td>Julio Lugo</td>\n      <td>6</td>\n      <td>buckt001</td>\n      <td>Travis Buck</td>\n      <td>9</td>\n      <td>ellim001</td>\n      <td>Mark Ellis</td>\n      <td>4</td>\n      <td>bartd001</td>\n      <td>Daric Barton</td>\n      <td>3</td>\n      <td>sweem002</td>\n      <td>Mike Sweeney</td>\n      <td>10</td>\n      <td>browe001</td>\n      <td>Emil Brown</td>\n      <td>7</td>\n      <td>crosb002</td>\n      <td>Bobby Crosby</td>\n      <td>6</td>\n      <td>hannj001</td>\n      <td>Jack Hannahan</td>\n      <td>5</td>\n      <td>suzuk001</td>\n      <td>Kurt Suzuki</td>\n      <td>2</td>\n      <td>denoc001</td>\n      <td>Chris Denorfia</td>\n      <td>8</td>\n      <td>NaN</td>\n      <td>Y</td>\n    </tr>\n    <tr>\n      <th>2</th>\n      <td>20080330</td>\n      <td>0</td>\n      <td>Sun</td>\n      <td>ATL</td>\n      <td>NL</td>\n      <td>1</td>\n      <td>WAS</td>\n      <td>NL</td>\n      <td>1</td>\n      <td>2</td>\n      <td>3</td>\n      <td>53</td>\n      <td>N</td>\n      <td>NaN</td>\n      <td>NaN</td>\n      <td>NaN</td>\n      <td>WAS11</td>\n      <td>39389.0</td>\n      <td>142</td>\n      <td>000100001</td>\n      <td>200000001</td>\n      <td>30</td>\n      <td>5</td>\n      <td>1</td>\n      <td>0</td>\n      <td>1</td>\n      <td>1</td>\n      <td>1</td>\n      <td>0</td>\n      <td>0</td>\n      <td>2</td>\n      <td>0</td>\n      <td>3</td>\n      <td>0</td>\n      <td>1</td>\n      <td>0</td>\n      <td>0</td>\n      <td>4</td>\n      <td>3</td>\n      <td>3</td>\n      <td>3</td>\n      <td>0</td>\n      <td>0</td>\n      <td>26</td>\n      <td>12</td>\n      <td>1</td>\n      <td>0</td>\n      <td>0</td>\n      <td>0</td>\n      <td>30</td>\n      <td>4</td>\n      <td>1</td>\n      <td>0</td>\n      <td>1</td>\n      <td>3</td>\n      <td>0</td>\n      <td>0</td>\n      <td>0</td>\n      <td>0</td>\n      <td>0</td>\n      <td>5</td>\n      <td>0</td>\n      <td>0</td>\n      <td>0</td>\n      <td>0</td>\n      <td>1</td>\n      <td>5</td>\n      <td>1</td>\n      <td>1</td>\n      <td>0</td>\n      <td>0</td>\n      <td>27</td>\n      <td>13</td>\n      <td>1</td>\n      <td>1</td>\n      <td>0</td>\n      <td>0</td>\n      <td>reilm901</td>\n      <td>Mike Reilly</td>\n      <td>davib902</td>\n      <td>Bob Davidson</td>\n      <td>marqa901</td>\n      <td>Alfonso Marquez</td>\n      <td>fleta901</td>\n      <td>Andy Fletcher</td>\n      <td>NaN</td>\n      <td>(none)</td>\n      <td>NaN</td>\n      <td>(none)</td>\n      <td>cox-b103</td>\n      <td>Bobby Cox</td>\n      <td>actam801</td>\n      <td>Manny Acta</td>\n      <td>raucj001</td>\n      <td>Jon Rauch</td>\n      <td>moylp001</td>\n      <td>Peter Moylan</td>\n      <td>NaN</td>\n      <td>(none)</td>\n      <td>zimmr001</td>\n      <td>Ryan Zimmerman</td>\n      <td>hudst001</td>\n      <td>Tim Hudson</td>\n      <td>pereo001</td>\n      <td>Odalis Perez</td>\n      <td>johnk003</td>\n      <td>Kelly Johnson</td>\n      <td>4</td>\n      <td>escoy001</td>\n      <td>Yunel Escobar</td>\n      <td>6</td>\n      <td>jonec004</td>\n      <td>Chipper Jones</td>\n      <td>5</td>\n      <td>teixm001</td>\n      <td>Mark Teixeira</td>\n      <td>3</td>\n      <td>franj004</td>\n      <td>Jeff Francoeur</td>\n      <td>9</td>\n      <td>mccab002</td>\n      <td>Brian McCann</td>\n      <td>2</td>\n      <td>diazm003</td>\n      <td>Matt Diaz</td>\n      <td>7</td>\n      <td>kotsm001</td>\n      <td>Mark Kotsay</td>\n      <td>8</td>\n      <td>hudst001</td>\n      <td>Tim Hudson</td>\n      <td>1</td>\n      <td>guzmc001</td>\n      <td>Cristian Guzman</td>\n      <td>6</td>\n      <td>milll002</td>\n      <td>Lastings Milledge</td>\n      <td>8</td>\n      <td>zimmr001</td>\n      <td>Ryan Zimmerman</td>\n      <td>5</td>\n      <td>johnn001</td>\n      <td>Nick Johnson</td>\n      <td>3</td>\n      <td>keara001</td>\n      <td>Austin Kearns</td>\n      <td>9</td>\n      <td>lodup001</td>\n      <td>Paul Lo Duca</td>\n      <td>2</td>\n      <td>dukee001</td>\n      <td>Elijah Dukes</td>\n      <td>7</td>\n      <td>bellr002</td>\n      <td>Ronnie Belliard</td>\n      <td>4</td>\n      <td>pereo001</td>\n      <td>Odalis Perez</td>\n      <td>1</td>\n      <td>NaN</td>\n      <td>Y</td>\n    </tr>\n    <tr>\n      <th>3</th>\n      <td>20080331</td>\n      <td>0</td>\n      <td>Mon</td>\n      <td>PIT</td>\n      <td>NL</td>\n      <td>1</td>\n      <td>ATL</td>\n      <td>NL</td>\n      <td>2</td>\n      <td>12</td>\n      <td>11</td>\n      <td>72</td>\n      <td>N</td>\n      <td>NaN</td>\n      <td>NaN</td>\n      <td>NaN</td>\n      <td>ATL02</td>\n      <td>45269.0</td>\n      <td>268</td>\n      <td>010101141003</td>\n      <td>003100005002</td>\n      <td>49</td>\n      <td>17</td>\n      <td>5</td>\n      <td>0</td>\n      <td>3</td>\n      <td>10</td>\n      <td>4</td>\n      <td>0</td>\n      <td>0</td>\n      <td>7</td>\n      <td>1</td>\n      <td>11</td>\n      <td>0</td>\n      <td>0</td>\n      <td>1</td>\n      <td>0</td>\n      <td>12</td>\n      <td>6</td>\n      <td>11</td>\n      <td>11</td>\n      <td>1</td>\n      <td>0</td>\n      <td>36</td>\n      <td>15</td>\n      <td>0</td>\n      <td>0</td>\n      <td>2</td>\n      <td>0</td>\n      <td>46</td>\n      <td>12</td>\n      <td>1</td>\n      <td>1</td>\n      <td>2</td>\n      <td>11</td>\n      <td>0</td>\n      <td>0</td>\n      <td>0</td>\n      <td>8</td>\n      <td>0</td>\n      <td>7</td>\n      <td>0</td>\n      <td>0</td>\n      <td>1</td>\n      <td>0</td>\n      <td>7</td>\n      <td>9</td>\n      <td>10</td>\n      <td>10</td>\n      <td>2</td>\n      <td>0</td>\n      <td>36</td>\n      <td>14</td>\n      <td>3</td>\n      <td>0</td>\n      <td>1</td>\n      <td>0</td>\n      <td>westj901</td>\n      <td>Joe West</td>\n      <td>rapue901</td>\n      <td>Ed Rapuano</td>\n      <td>hicke901</td>\n      <td>Ed Hickox</td>\n      <td>buckc901</td>\n      <td>CB Bucknor</td>\n      <td>NaN</td>\n      <td>(none)</td>\n      <td>NaN</td>\n      <td>(none)</td>\n      <td>russj002</td>\n      <td>John Russell</td>\n      <td>cox-b103</td>\n      <td>Bobby Cox</td>\n      <td>osorf001</td>\n      <td>Franquelis Osoria</td>\n      <td>boyeb001</td>\n      <td>Blaine Boyer</td>\n      <td>NaN</td>\n      <td>(none)</td>\n      <td>nadyx001</td>\n      <td>Xavier Nady</td>\n      <td>sneli001</td>\n      <td>Ian Snell</td>\n      <td>glavt001</td>\n      <td>Tom Glavine</td>\n      <td>mclon001</td>\n      <td>Nate McLouth</td>\n      <td>8</td>\n      <td>sancf001</td>\n      <td>Freddy Sanchez</td>\n      <td>4</td>\n      <td>bay-j001</td>\n      <td>Jason Bay</td>\n      <td>7</td>\n      <td>laroa001</td>\n      <td>Adam LaRoche</td>\n      <td>3</td>\n      <td>nadyx001</td>\n      <td>Xavier Nady</td>\n      <td>9</td>\n      <td>doumr001</td>\n      <td>Ryan Doumit</td>\n      <td>2</td>\n      <td>bautj002</td>\n      <td>Jose Bautista</td>\n      <td>5</td>\n      <td>wilsj002</td>\n      <td>Jack Wilson</td>\n      <td>6</td>\n      <td>sneli001</td>\n      <td>Ian Snell</td>\n      <td>1</td>\n      <td>johnk003</td>\n      <td>Kelly Johnson</td>\n      <td>4</td>\n      <td>escoy001</td>\n      <td>Yunel Escobar</td>\n      <td>6</td>\n      <td>jonec004</td>\n      <td>Chipper Jones</td>\n      <td>5</td>\n      <td>teixm001</td>\n      <td>Mark Teixeira</td>\n      <td>3</td>\n      <td>mccab002</td>\n      <td>Brian McCann</td>\n      <td>2</td>\n      <td>franj004</td>\n      <td>Jeff Francoeur</td>\n      <td>9</td>\n      <td>kotsm001</td>\n      <td>Mark Kotsay</td>\n      <td>8</td>\n      <td>diazm003</td>\n      <td>Matt Diaz</td>\n      <td>7</td>\n      <td>glavt001</td>\n      <td>Tom Glavine</td>\n      <td>1</td>\n      <td>NaN</td>\n      <td>Y</td>\n    </tr>\n    <tr>\n      <th>4</th>\n      <td>20080331</td>\n      <td>0</td>\n      <td>Mon</td>\n      <td>MIL</td>\n      <td>NL</td>\n      <td>1</td>\n      <td>CHN</td>\n      <td>NL</td>\n      <td>1</td>\n      <td>4</td>\n      <td>3</td>\n      <td>60</td>\n      <td>D</td>\n      <td>NaN</td>\n      <td>NaN</td>\n      <td>NaN</td>\n      <td>CHI11</td>\n      <td>41089.0</td>\n      <td>179</td>\n      <td>0000000031</td>\n      <td>0000000030</td>\n      <td>33</td>\n      <td>7</td>\n      <td>3</td>\n      <td>0</td>\n      <td>0</td>\n      <td>4</td>\n      <td>2</td>\n      <td>1</td>\n      <td>2</td>\n      <td>2</td>\n      <td>1</td>\n      <td>9</td>\n      <td>1</td>\n      <td>0</td>\n      <td>0</td>\n      <td>0</td>\n      <td>6</td>\n      <td>5</td>\n      <td>3</td>\n      <td>3</td>\n      <td>0</td>\n      <td>0</td>\n      <td>30</td>\n      <td>8</td>\n      <td>0</td>\n      <td>0</td>\n      <td>0</td>\n      <td>0</td>\n      <td>34</td>\n      <td>5</td>\n      <td>1</td>\n      <td>0</td>\n      <td>1</td>\n      <td>3</td>\n      <td>0</td>\n      <td>0</td>\n      <td>1</td>\n      <td>4</td>\n      <td>0</td>\n      <td>10</td>\n      <td>0</td>\n      <td>0</td>\n      <td>0</td>\n      <td>0</td>\n      <td>6</td>\n      <td>4</td>\n      <td>4</td>\n      <td>4</td>\n      <td>0</td>\n      <td>0</td>\n      <td>30</td>\n      <td>8</td>\n      <td>0</td>\n      <td>0</td>\n      <td>0</td>\n      <td>0</td>\n      <td>cedeg901</td>\n      <td>Gary Cederstrom</td>\n      <td>culbf901</td>\n      <td>Fieldin Culbreth</td>\n      <td>reynj901</td>\n      <td>Jim Reynolds</td>\n      <td>timmt901</td>\n      <td>Tim Timmons</td>\n      <td>NaN</td>\n      <td>(none)</td>\n      <td>NaN</td>\n      <td>(none)</td>\n      <td>yoste001</td>\n      <td>Ned Yost</td>\n      <td>pinil001</td>\n      <td>Lou Piniella</td>\n      <td>gagne001</td>\n      <td>Eric Gagne</td>\n      <td>howrb001</td>\n      <td>Bob Howry</td>\n      <td>riskd001</td>\n      <td>David Riske</td>\n      <td>gwynt002</td>\n      <td>Tony Gwynn</td>\n      <td>sheeb001</td>\n      <td>Ben Sheets</td>\n      <td>zambc001</td>\n      <td>Carlos Zambrano</td>\n      <td>weekr001</td>\n      <td>Rickie Weeks</td>\n      <td>4</td>\n      <td>gwynt002</td>\n      <td>Tony Gwynn</td>\n      <td>8</td>\n      <td>fielp001</td>\n      <td>Prince Fielder</td>\n      <td>3</td>\n      <td>braur002</td>\n      <td>Ryan Braun</td>\n      <td>7</td>\n      <td>hallb001</td>\n      <td>Bill Hall</td>\n      <td>5</td>\n      <td>hartc001</td>\n      <td>Corey Hart</td>\n      <td>9</td>\n      <td>hardj003</td>\n      <td>J.J. Hardy</td>\n      <td>6</td>\n      <td>sheeb001</td>\n      <td>Ben Sheets</td>\n      <td>1</td>\n      <td>kendj001</td>\n      <td>Jason Kendall</td>\n      <td>2</td>\n      <td>therr001</td>\n      <td>Ryan Theriot</td>\n      <td>6</td>\n      <td>soria001</td>\n      <td>Alfonso Soriano</td>\n      <td>7</td>\n      <td>lee-d002</td>\n      <td>Derrek Lee</td>\n      <td>3</td>\n      <td>ramia001</td>\n      <td>Aramis Ramirez</td>\n      <td>5</td>\n      <td>fukuk001</td>\n      <td>Kosuke Fukudome</td>\n      <td>9</td>\n      <td>derom001</td>\n      <td>Mark DeRosa</td>\n      <td>4</td>\n      <td>sotog001</td>\n      <td>Geovany Soto</td>\n      <td>2</td>\n      <td>pie-f001</td>\n      <td>Felix Pie</td>\n      <td>8</td>\n      <td>zambc001</td>\n      <td>Carlos Zambrano</td>\n      <td>1</td>\n      <td>NaN</td>\n      <td>Y</td>\n    </tr>\n  </tbody>\n</table>\n</div>",
      "text/plain": "       date  game_num day_of_week visiting_team visiting_team_league  visiting_game_num home_team home_team_league  home_team_game_num  visiting_score  home_score  num_outs day_night completion_info  forfeit_info protest_info park_id  attendance  time_of_game_minutes visiting_line_score home_line_score  visiting_abs  visiting_hits  visiting_doubles  visiting_triples  visiting_homeruns  visiting_rbi  visiting_sac_hits  visiting_sac_flies  visiting_hbp  visiting_bb  visiting_iw  visiting_k  visiting_sb  visiting_cs  visiting_gdp  visiting_ci  visiting_lob  visiting_pitchers_used  visiting_individual_er  visiting_er  visiting__wp  visiting_balks  visiting_po  visiting_assists  visiting_errors  visiting_pb  visiting_dp  visiting_tp  home_abs  home_hits  home_doubles  home_triples  home_homeruns  home_rbi  home_sac_hits  home_sac_flies  home_hbp  home_bb  home_iw  home_k  home_sb  home_cs  home_gdp  home_ci  home_lob  home_pitchers_used  home_individual_er  home_er  home_wp  home_balks  \\\n0  20080325         0         Tue           BOS                   AL                  1       OAK               AL                   1               6           5        60         N             NaN           NaN          NaN   TOK01     44628.0                   219          0000030012      2000020001            38             11                 3                 0                  1             6                  1                   0             0            3            2           7            0            0             2            0             6                       6                       5            5             1               0           30                15                0            0            0            0        36          7             1             0              2         5              0               0         1        7        0      10        1        0         0        0         9                   5                   6        6        0           0   \n1  20080326         0         Wed           BOS                   AL                  2       OAK               AL                   2               1           5        51         N             NaN           NaN          NaN   TOK01     44735.0                   171           000001000       01300001x            31              5                 1                 0                  1             1                  0                   0             0            3            0          13            1            0             2            0             6                       5                       5            5             0               0           24                 8                0            0            0            0        33          9             3             0              1         5              0               0         0        4        0       7        0        0         0        0         8                   4                   1        1        1           0   \n2  20080330         0         Sun           ATL                   NL                  1       WAS               NL                   1               2           3        53         N             NaN           NaN          NaN   WAS11     39389.0                   142           000100001       200000001            30              5                 1                 0                  1             1                  1                   0             0            2            0           3            0            1             0            0             4                       3                       3            3             0               0           26                12                1            0            0            0        30          4             1             0              1         3              0               0         0        0        0       5        0        0         0        0         1                   5                   1        1        0           0   \n3  20080331         0         Mon           PIT                   NL                  1       ATL               NL                   2              12          11        72         N             NaN           NaN          NaN   ATL02     45269.0                   268        010101141003    003100005002            49             17                 5                 0                  3            10                  4                   0             0            7            1          11            0            0             1            0            12                       6                      11           11             1               0           36                15                0            0            2            0        46         12             1             1              2        11              0               0         0        8        0       7        0        0         1        0         7                   9                  10       10        2           0   \n4  20080331         0         Mon           MIL                   NL                  1       CHN               NL                   1               4           3        60         D             NaN           NaN          NaN   CHI11     41089.0                   179          0000000031      0000000030            33              7                 3                 0                  0             4                  2                   1             2            2            1           9            1            0             0            0             6                       5                       3            3             0               0           30                 8                0            0            0            0        34          5             1             0              1         3              0               0         1        4        0      10        0        0         0        0         6                   4                   4        4        0           0   \n\n   home_po  home_assists  home_errors  home_pb  home_dp  home_tp ump_home_id       ump_home_name ump_first_id      ump_first_name ump_second_id  ump_second_name ump_third_id ump_third_name ump_lf_id ump_lf_name ump_rf_id ump_rf_name visiting_manager_id visiting_manager_name home_manager_id home_manager_name winning_pitcher_id winning_pitcher_name losing_pitcher_id losing_pitcher_name save_pitcher_id  save_pitcher_name game_winning_rbi_id game_winning_rbi_name visiting_starting_pitcher_id visiting_starting_pitcher_name home_starting_pitcher_id home_starting_pitcher_name visiting_1_id visiting_1_name  visiting_1_pos visiting_2_id visiting_2_name  visiting_2_pos visiting_2_id.1 visiting_3_name  visiting_3_pos visiting_4_id visiting_4_name  visiting_4_pos visiting_5_id visiting_5_name  visiting_5_pos visiting_6_id visiting_6_name  visiting_6_pos visiting_7_id visiting_7_name  visiting_7_pos visiting_8_id  visiting_8_name  visiting_8_pos visiting_9_id visiting_9_name  visiting_9_pos  \\\n0       30            12            0        0        2        0    reedr901           Rick Reed     wendh902  Hunter Wendelstedt      timmt901      Tim Timmons     nauep901    Paul Nauert       NaN      (none)       NaN      (none)            frant001        Terry Francona        gereb001         Bob Geren           okajh001       Hideki Okajima          streh001       Huston Street        papej001  Jonathan Papelbon            ramim002         Manny Ramirez                     matsd001              Daisuke Matsuzaka                 blanj001                Joe Blanton      pedrd001  Dustin Pedroia               4      youkk001  Kevin Youkilis               3        ortid001     David Ortiz              10      ramim002   Manny Ramirez               7      lowem001     Mike Lowell               5      mossb001    Brandon Moss               9      varij001   Jason Varitek               2      ellsj001  Jacoby Ellsbury               8      lugoj001      Julio Lugo               6   \n1       27             5            1        0        2        0    wendh902  Hunter Wendelstedt     timmt901         Tim Timmons      nauep901      Paul Nauert     reedr901      Rick Reed       NaN      (none)       NaN      (none)            frant001        Terry Francona        gereb001         Bob Geren           hardr001          Rich Harden          lestj001          Jon Lester             NaN             (none)            denoc001        Chris Denorfia                     lestj001                     Jon Lester                 hardr001                Rich Harden      pedrd001  Dustin Pedroia               4      youkk001  Kevin Youkilis               3        ortid001     David Ortiz              10      ramim002   Manny Ramirez               7      lowem001     Mike Lowell               5      mossb001    Brandon Moss               9      varij001   Jason Varitek               2      crisc001       Coco Crisp               8      lugoj001      Julio Lugo               6   \n2       27            13            1        1        0        0    reilm901         Mike Reilly     davib902        Bob Davidson      marqa901  Alfonso Marquez     fleta901  Andy Fletcher       NaN      (none)       NaN      (none)            cox-b103             Bobby Cox        actam801        Manny Acta           raucj001            Jon Rauch          moylp001        Peter Moylan             NaN             (none)            zimmr001        Ryan Zimmerman                     hudst001                     Tim Hudson                 pereo001               Odalis Perez      johnk003   Kelly Johnson               4      escoy001   Yunel Escobar               6        jonec004   Chipper Jones               5      teixm001   Mark Teixeira               3      franj004  Jeff Francoeur               9      mccab002    Brian McCann               2      diazm003       Matt Diaz               7      kotsm001      Mark Kotsay               8      hudst001      Tim Hudson               1   \n3       36            14            3        0        1        0    westj901            Joe West     rapue901          Ed Rapuano      hicke901        Ed Hickox     buckc901     CB Bucknor       NaN      (none)       NaN      (none)            russj002          John Russell        cox-b103         Bobby Cox           osorf001    Franquelis Osoria          boyeb001        Blaine Boyer             NaN             (none)            nadyx001           Xavier Nady                     sneli001                      Ian Snell                 glavt001                Tom Glavine      mclon001    Nate McLouth               8      sancf001  Freddy Sanchez               4        bay-j001       Jason Bay               7      laroa001    Adam LaRoche               3      nadyx001     Xavier Nady               9      doumr001     Ryan Doumit               2      bautj002   Jose Bautista               5      wilsj002      Jack Wilson               6      sneli001       Ian Snell               1   \n4       30             8            0        0        0        0    cedeg901     Gary Cederstrom     culbf901    Fieldin Culbreth      reynj901     Jim Reynolds     timmt901    Tim Timmons       NaN      (none)       NaN      (none)            yoste001              Ned Yost        pinil001      Lou Piniella           gagne001           Eric Gagne          howrb001           Bob Howry        riskd001        David Riske            gwynt002            Tony Gwynn                     sheeb001                     Ben Sheets                 zambc001            Carlos Zambrano      weekr001    Rickie Weeks               4      gwynt002      Tony Gwynn               8        fielp001  Prince Fielder               3      braur002      Ryan Braun               7      hallb001       Bill Hall               5      hartc001      Corey Hart               9      hardj003      J.J. Hardy               6      sheeb001       Ben Sheets               1      kendj001   Jason Kendall               2   \n\n  home_1_id      home_1_name  home_1_pos home_2_id        home_2_name  home_2_pos home_3_id     home_3_name  home_3_pos home_4_id     home_4_name  home_4_pos home_5_id      home_5_name  home_5_pos home_6_id     home_6_name  home_6_pos home_7_id    home_7_name  home_7_pos home_8_id      home_8_name  home_8_pos home_9_id      home_9_name  home_9_pos misc acquisition_info  \n0  buckt001      Travis Buck           9  ellim001         Mark Ellis           4  bartd001    Daric Barton           3  custj001       Jack Cust          10  browe001       Emil Brown           7  crosb002    Bobby Crosby           6  hannj001  Jack Hannahan           5  suzuk001      Kurt Suzuki           2  sweer001     Ryan Sweeney           8  NaN                Y  \n1  buckt001      Travis Buck           9  ellim001         Mark Ellis           4  bartd001    Daric Barton           3  sweem002    Mike Sweeney          10  browe001       Emil Brown           7  crosb002    Bobby Crosby           6  hannj001  Jack Hannahan           5  suzuk001      Kurt Suzuki           2  denoc001   Chris Denorfia           8  NaN                Y  \n2  guzmc001  Cristian Guzman           6  milll002  Lastings Milledge           8  zimmr001  Ryan Zimmerman           5  johnn001    Nick Johnson           3  keara001    Austin Kearns           9  lodup001    Paul Lo Duca           2  dukee001   Elijah Dukes           7  bellr002  Ronnie Belliard           4  pereo001     Odalis Perez           1  NaN                Y  \n3  johnk003    Kelly Johnson           4  escoy001      Yunel Escobar           6  jonec004   Chipper Jones           5  teixm001   Mark Teixeira           3  mccab002     Brian McCann           2  franj004  Jeff Francoeur           9  kotsm001    Mark Kotsay           8  diazm003        Matt Diaz           7  glavt001      Tom Glavine           1  NaN                Y  \n4  therr001     Ryan Theriot           6  soria001    Alfonso Soriano           7  lee-d002      Derrek Lee           3  ramia001  Aramis Ramirez           5  fukuk001  Kosuke Fukudome           9  derom001     Mark DeRosa           4  sotog001   Geovany Soto           2  pie-f001        Felix Pie           8  zambc001  Carlos Zambrano           1  NaN                Y  "
     },
     "execution_count": 73,
     "metadata": {},
     "output_type": "execute_result"
    }
   ],
   "source": [
    "frame.head()"
   ]
  },
  {
   "cell_type": "code",
   "execution_count": 74,
   "metadata": {},
   "outputs": [],
   "source": [
    "for x in frame:\n",
    "    frame['win'] = np.where(frame['home_score']>frame['visiting_score'],frame['home_team'],frame['visiting_team'])"
   ]
  },
  {
   "cell_type": "code",
   "execution_count": 75,
   "metadata": {},
   "outputs": [
    {
     "data": {
      "text/plain": "count     26726\nunique       31\ntop         NYA\nfreq       1010\nName: win, dtype: object"
     },
     "execution_count": 75,
     "metadata": {},
     "output_type": "execute_result"
    }
   ],
   "source": [
    "frame.win.describe()"
   ]
  },
  {
   "cell_type": "code",
   "execution_count": 76,
   "metadata": {},
   "outputs": [
    {
     "data": {
      "text/html": "<div>\n<style scoped>\n    .dataframe tbody tr th:only-of-type {\n        vertical-align: middle;\n    }\n\n    .dataframe tbody tr th {\n        vertical-align: top;\n    }\n\n    .dataframe thead th {\n        text-align: right;\n    }\n</style>\n<table border=\"1\" class=\"dataframe\">\n  <thead>\n    <tr style=\"text-align: right;\">\n      <th></th>\n      <th>date</th>\n      <th>game_num</th>\n      <th>day_of_week</th>\n      <th>visiting_team</th>\n      <th>visiting_team_league</th>\n      <th>visiting_game_num</th>\n      <th>home_team</th>\n      <th>home_team_league</th>\n      <th>home_team_game_num</th>\n      <th>visiting_score</th>\n      <th>home_score</th>\n      <th>num_outs</th>\n      <th>day_night</th>\n      <th>completion_info</th>\n      <th>forfeit_info</th>\n      <th>protest_info</th>\n      <th>park_id</th>\n      <th>attendance</th>\n      <th>time_of_game_minutes</th>\n      <th>visiting_line_score</th>\n      <th>home_line_score</th>\n      <th>visiting_abs</th>\n      <th>visiting_hits</th>\n      <th>visiting_doubles</th>\n      <th>visiting_triples</th>\n      <th>visiting_homeruns</th>\n      <th>visiting_rbi</th>\n      <th>visiting_sac_hits</th>\n      <th>visiting_sac_flies</th>\n      <th>visiting_hbp</th>\n      <th>visiting_bb</th>\n      <th>visiting_iw</th>\n      <th>visiting_k</th>\n      <th>visiting_sb</th>\n      <th>visiting_cs</th>\n      <th>visiting_gdp</th>\n      <th>visiting_ci</th>\n      <th>visiting_lob</th>\n      <th>visiting_pitchers_used</th>\n      <th>visiting_individual_er</th>\n      <th>visiting_er</th>\n      <th>visiting__wp</th>\n      <th>visiting_balks</th>\n      <th>visiting_po</th>\n      <th>visiting_assists</th>\n      <th>visiting_errors</th>\n      <th>visiting_pb</th>\n      <th>visiting_dp</th>\n      <th>visiting_tp</th>\n      <th>home_abs</th>\n      <th>home_hits</th>\n      <th>home_doubles</th>\n      <th>home_triples</th>\n      <th>home_homeruns</th>\n      <th>home_rbi</th>\n      <th>home_sac_hits</th>\n      <th>home_sac_flies</th>\n      <th>home_hbp</th>\n      <th>home_bb</th>\n      <th>home_iw</th>\n      <th>home_k</th>\n      <th>home_sb</th>\n      <th>home_cs</th>\n      <th>home_gdp</th>\n      <th>home_ci</th>\n      <th>home_lob</th>\n      <th>home_pitchers_used</th>\n      <th>home_individual_er</th>\n      <th>home_er</th>\n      <th>home_wp</th>\n      <th>home_balks</th>\n      <th>home_po</th>\n      <th>home_assists</th>\n      <th>home_errors</th>\n      <th>home_pb</th>\n      <th>home_dp</th>\n      <th>home_tp</th>\n      <th>ump_home_id</th>\n      <th>ump_home_name</th>\n      <th>ump_first_id</th>\n      <th>ump_first_name</th>\n      <th>ump_second_id</th>\n      <th>ump_second_name</th>\n      <th>ump_third_id</th>\n      <th>ump_third_name</th>\n      <th>ump_lf_id</th>\n      <th>ump_lf_name</th>\n      <th>ump_rf_id</th>\n      <th>ump_rf_name</th>\n      <th>visiting_manager_id</th>\n      <th>visiting_manager_name</th>\n      <th>home_manager_id</th>\n      <th>home_manager_name</th>\n      <th>winning_pitcher_id</th>\n      <th>winning_pitcher_name</th>\n      <th>losing_pitcher_id</th>\n      <th>losing_pitcher_name</th>\n      <th>save_pitcher_id</th>\n      <th>save_pitcher_name</th>\n      <th>game_winning_rbi_id</th>\n      <th>game_winning_rbi_name</th>\n      <th>visiting_starting_pitcher_id</th>\n      <th>visiting_starting_pitcher_name</th>\n      <th>home_starting_pitcher_id</th>\n      <th>home_starting_pitcher_name</th>\n      <th>visiting_1_id</th>\n      <th>visiting_1_name</th>\n      <th>visiting_1_pos</th>\n      <th>visiting_2_id</th>\n      <th>visiting_2_name</th>\n      <th>visiting_2_pos</th>\n      <th>visiting_2_id.1</th>\n      <th>visiting_3_name</th>\n      <th>visiting_3_pos</th>\n      <th>visiting_4_id</th>\n      <th>visiting_4_name</th>\n      <th>visiting_4_pos</th>\n      <th>visiting_5_id</th>\n      <th>visiting_5_name</th>\n      <th>visiting_5_pos</th>\n      <th>visiting_6_id</th>\n      <th>visiting_6_name</th>\n      <th>visiting_6_pos</th>\n      <th>visiting_7_id</th>\n      <th>visiting_7_name</th>\n      <th>visiting_7_pos</th>\n      <th>visiting_8_id</th>\n      <th>visiting_8_name</th>\n      <th>visiting_8_pos</th>\n      <th>visiting_9_id</th>\n      <th>visiting_9_name</th>\n      <th>visiting_9_pos</th>\n      <th>home_1_id</th>\n      <th>home_1_name</th>\n      <th>home_1_pos</th>\n      <th>home_2_id</th>\n      <th>home_2_name</th>\n      <th>home_2_pos</th>\n      <th>home_3_id</th>\n      <th>home_3_name</th>\n      <th>home_3_pos</th>\n      <th>home_4_id</th>\n      <th>home_4_name</th>\n      <th>home_4_pos</th>\n      <th>home_5_id</th>\n      <th>home_5_name</th>\n      <th>home_5_pos</th>\n      <th>home_6_id</th>\n      <th>home_6_name</th>\n      <th>home_6_pos</th>\n      <th>home_7_id</th>\n      <th>home_7_name</th>\n      <th>home_7_pos</th>\n      <th>home_8_id</th>\n      <th>home_8_name</th>\n      <th>home_8_pos</th>\n      <th>home_9_id</th>\n      <th>home_9_name</th>\n      <th>home_9_pos</th>\n      <th>misc</th>\n      <th>acquisition_info</th>\n      <th>win</th>\n    </tr>\n  </thead>\n  <tbody>\n    <tr>\n      <th>0</th>\n      <td>20080325</td>\n      <td>0</td>\n      <td>Tue</td>\n      <td>BOS</td>\n      <td>AL</td>\n      <td>1</td>\n      <td>OAK</td>\n      <td>AL</td>\n      <td>1</td>\n      <td>6</td>\n      <td>5</td>\n      <td>60</td>\n      <td>N</td>\n      <td>NaN</td>\n      <td>NaN</td>\n      <td>NaN</td>\n      <td>TOK01</td>\n      <td>44628.0</td>\n      <td>219</td>\n      <td>0000030012</td>\n      <td>2000020001</td>\n      <td>38</td>\n      <td>11</td>\n      <td>3</td>\n      <td>0</td>\n      <td>1</td>\n      <td>6</td>\n      <td>1</td>\n      <td>0</td>\n      <td>0</td>\n      <td>3</td>\n      <td>2</td>\n      <td>7</td>\n      <td>0</td>\n      <td>0</td>\n      <td>2</td>\n      <td>0</td>\n      <td>6</td>\n      <td>6</td>\n      <td>5</td>\n      <td>5</td>\n      <td>1</td>\n      <td>0</td>\n      <td>30</td>\n      <td>15</td>\n      <td>0</td>\n      <td>0</td>\n      <td>0</td>\n      <td>0</td>\n      <td>36</td>\n      <td>7</td>\n      <td>1</td>\n      <td>0</td>\n      <td>2</td>\n      <td>5</td>\n      <td>0</td>\n      <td>0</td>\n      <td>1</td>\n      <td>7</td>\n      <td>0</td>\n      <td>10</td>\n      <td>1</td>\n      <td>0</td>\n      <td>0</td>\n      <td>0</td>\n      <td>9</td>\n      <td>5</td>\n      <td>6</td>\n      <td>6</td>\n      <td>0</td>\n      <td>0</td>\n      <td>30</td>\n      <td>12</td>\n      <td>0</td>\n      <td>0</td>\n      <td>2</td>\n      <td>0</td>\n      <td>reedr901</td>\n      <td>Rick Reed</td>\n      <td>wendh902</td>\n      <td>Hunter Wendelstedt</td>\n      <td>timmt901</td>\n      <td>Tim Timmons</td>\n      <td>nauep901</td>\n      <td>Paul Nauert</td>\n      <td>NaN</td>\n      <td>(none)</td>\n      <td>NaN</td>\n      <td>(none)</td>\n      <td>frant001</td>\n      <td>Terry Francona</td>\n      <td>gereb001</td>\n      <td>Bob Geren</td>\n      <td>okajh001</td>\n      <td>Hideki Okajima</td>\n      <td>streh001</td>\n      <td>Huston Street</td>\n      <td>papej001</td>\n      <td>Jonathan Papelbon</td>\n      <td>ramim002</td>\n      <td>Manny Ramirez</td>\n      <td>matsd001</td>\n      <td>Daisuke Matsuzaka</td>\n      <td>blanj001</td>\n      <td>Joe Blanton</td>\n      <td>pedrd001</td>\n      <td>Dustin Pedroia</td>\n      <td>4</td>\n      <td>youkk001</td>\n      <td>Kevin Youkilis</td>\n      <td>3</td>\n      <td>ortid001</td>\n      <td>David Ortiz</td>\n      <td>10</td>\n      <td>ramim002</td>\n      <td>Manny Ramirez</td>\n      <td>7</td>\n      <td>lowem001</td>\n      <td>Mike Lowell</td>\n      <td>5</td>\n      <td>mossb001</td>\n      <td>Brandon Moss</td>\n      <td>9</td>\n      <td>varij001</td>\n      <td>Jason Varitek</td>\n      <td>2</td>\n      <td>ellsj001</td>\n      <td>Jacoby Ellsbury</td>\n      <td>8</td>\n      <td>lugoj001</td>\n      <td>Julio Lugo</td>\n      <td>6</td>\n      <td>buckt001</td>\n      <td>Travis Buck</td>\n      <td>9</td>\n      <td>ellim001</td>\n      <td>Mark Ellis</td>\n      <td>4</td>\n      <td>bartd001</td>\n      <td>Daric Barton</td>\n      <td>3</td>\n      <td>custj001</td>\n      <td>Jack Cust</td>\n      <td>10</td>\n      <td>browe001</td>\n      <td>Emil Brown</td>\n      <td>7</td>\n      <td>crosb002</td>\n      <td>Bobby Crosby</td>\n      <td>6</td>\n      <td>hannj001</td>\n      <td>Jack Hannahan</td>\n      <td>5</td>\n      <td>suzuk001</td>\n      <td>Kurt Suzuki</td>\n      <td>2</td>\n      <td>sweer001</td>\n      <td>Ryan Sweeney</td>\n      <td>8</td>\n      <td>NaN</td>\n      <td>Y</td>\n      <td>BOS</td>\n    </tr>\n    <tr>\n      <th>1</th>\n      <td>20080326</td>\n      <td>0</td>\n      <td>Wed</td>\n      <td>BOS</td>\n      <td>AL</td>\n      <td>2</td>\n      <td>OAK</td>\n      <td>AL</td>\n      <td>2</td>\n      <td>1</td>\n      <td>5</td>\n      <td>51</td>\n      <td>N</td>\n      <td>NaN</td>\n      <td>NaN</td>\n      <td>NaN</td>\n      <td>TOK01</td>\n      <td>44735.0</td>\n      <td>171</td>\n      <td>000001000</td>\n      <td>01300001x</td>\n      <td>31</td>\n      <td>5</td>\n      <td>1</td>\n      <td>0</td>\n      <td>1</td>\n      <td>1</td>\n      <td>0</td>\n      <td>0</td>\n      <td>0</td>\n      <td>3</td>\n      <td>0</td>\n      <td>13</td>\n      <td>1</td>\n      <td>0</td>\n      <td>2</td>\n      <td>0</td>\n      <td>6</td>\n      <td>5</td>\n      <td>5</td>\n      <td>5</td>\n      <td>0</td>\n      <td>0</td>\n      <td>24</td>\n      <td>8</td>\n      <td>0</td>\n      <td>0</td>\n      <td>0</td>\n      <td>0</td>\n      <td>33</td>\n      <td>9</td>\n      <td>3</td>\n      <td>0</td>\n      <td>1</td>\n      <td>5</td>\n      <td>0</td>\n      <td>0</td>\n      <td>0</td>\n      <td>4</td>\n      <td>0</td>\n      <td>7</td>\n      <td>0</td>\n      <td>0</td>\n      <td>0</td>\n      <td>0</td>\n      <td>8</td>\n      <td>4</td>\n      <td>1</td>\n      <td>1</td>\n      <td>1</td>\n      <td>0</td>\n      <td>27</td>\n      <td>5</td>\n      <td>1</td>\n      <td>0</td>\n      <td>2</td>\n      <td>0</td>\n      <td>wendh902</td>\n      <td>Hunter Wendelstedt</td>\n      <td>timmt901</td>\n      <td>Tim Timmons</td>\n      <td>nauep901</td>\n      <td>Paul Nauert</td>\n      <td>reedr901</td>\n      <td>Rick Reed</td>\n      <td>NaN</td>\n      <td>(none)</td>\n      <td>NaN</td>\n      <td>(none)</td>\n      <td>frant001</td>\n      <td>Terry Francona</td>\n      <td>gereb001</td>\n      <td>Bob Geren</td>\n      <td>hardr001</td>\n      <td>Rich Harden</td>\n      <td>lestj001</td>\n      <td>Jon Lester</td>\n      <td>NaN</td>\n      <td>(none)</td>\n      <td>denoc001</td>\n      <td>Chris Denorfia</td>\n      <td>lestj001</td>\n      <td>Jon Lester</td>\n      <td>hardr001</td>\n      <td>Rich Harden</td>\n      <td>pedrd001</td>\n      <td>Dustin Pedroia</td>\n      <td>4</td>\n      <td>youkk001</td>\n      <td>Kevin Youkilis</td>\n      <td>3</td>\n      <td>ortid001</td>\n      <td>David Ortiz</td>\n      <td>10</td>\n      <td>ramim002</td>\n      <td>Manny Ramirez</td>\n      <td>7</td>\n      <td>lowem001</td>\n      <td>Mike Lowell</td>\n      <td>5</td>\n      <td>mossb001</td>\n      <td>Brandon Moss</td>\n      <td>9</td>\n      <td>varij001</td>\n      <td>Jason Varitek</td>\n      <td>2</td>\n      <td>crisc001</td>\n      <td>Coco Crisp</td>\n      <td>8</td>\n      <td>lugoj001</td>\n      <td>Julio Lugo</td>\n      <td>6</td>\n      <td>buckt001</td>\n      <td>Travis Buck</td>\n      <td>9</td>\n      <td>ellim001</td>\n      <td>Mark Ellis</td>\n      <td>4</td>\n      <td>bartd001</td>\n      <td>Daric Barton</td>\n      <td>3</td>\n      <td>sweem002</td>\n      <td>Mike Sweeney</td>\n      <td>10</td>\n      <td>browe001</td>\n      <td>Emil Brown</td>\n      <td>7</td>\n      <td>crosb002</td>\n      <td>Bobby Crosby</td>\n      <td>6</td>\n      <td>hannj001</td>\n      <td>Jack Hannahan</td>\n      <td>5</td>\n      <td>suzuk001</td>\n      <td>Kurt Suzuki</td>\n      <td>2</td>\n      <td>denoc001</td>\n      <td>Chris Denorfia</td>\n      <td>8</td>\n      <td>NaN</td>\n      <td>Y</td>\n      <td>OAK</td>\n    </tr>\n    <tr>\n      <th>2</th>\n      <td>20080330</td>\n      <td>0</td>\n      <td>Sun</td>\n      <td>ATL</td>\n      <td>NL</td>\n      <td>1</td>\n      <td>WAS</td>\n      <td>NL</td>\n      <td>1</td>\n      <td>2</td>\n      <td>3</td>\n      <td>53</td>\n      <td>N</td>\n      <td>NaN</td>\n      <td>NaN</td>\n      <td>NaN</td>\n      <td>WAS11</td>\n      <td>39389.0</td>\n      <td>142</td>\n      <td>000100001</td>\n      <td>200000001</td>\n      <td>30</td>\n      <td>5</td>\n      <td>1</td>\n      <td>0</td>\n      <td>1</td>\n      <td>1</td>\n      <td>1</td>\n      <td>0</td>\n      <td>0</td>\n      <td>2</td>\n      <td>0</td>\n      <td>3</td>\n      <td>0</td>\n      <td>1</td>\n      <td>0</td>\n      <td>0</td>\n      <td>4</td>\n      <td>3</td>\n      <td>3</td>\n      <td>3</td>\n      <td>0</td>\n      <td>0</td>\n      <td>26</td>\n      <td>12</td>\n      <td>1</td>\n      <td>0</td>\n      <td>0</td>\n      <td>0</td>\n      <td>30</td>\n      <td>4</td>\n      <td>1</td>\n      <td>0</td>\n      <td>1</td>\n      <td>3</td>\n      <td>0</td>\n      <td>0</td>\n      <td>0</td>\n      <td>0</td>\n      <td>0</td>\n      <td>5</td>\n      <td>0</td>\n      <td>0</td>\n      <td>0</td>\n      <td>0</td>\n      <td>1</td>\n      <td>5</td>\n      <td>1</td>\n      <td>1</td>\n      <td>0</td>\n      <td>0</td>\n      <td>27</td>\n      <td>13</td>\n      <td>1</td>\n      <td>1</td>\n      <td>0</td>\n      <td>0</td>\n      <td>reilm901</td>\n      <td>Mike Reilly</td>\n      <td>davib902</td>\n      <td>Bob Davidson</td>\n      <td>marqa901</td>\n      <td>Alfonso Marquez</td>\n      <td>fleta901</td>\n      <td>Andy Fletcher</td>\n      <td>NaN</td>\n      <td>(none)</td>\n      <td>NaN</td>\n      <td>(none)</td>\n      <td>cox-b103</td>\n      <td>Bobby Cox</td>\n      <td>actam801</td>\n      <td>Manny Acta</td>\n      <td>raucj001</td>\n      <td>Jon Rauch</td>\n      <td>moylp001</td>\n      <td>Peter Moylan</td>\n      <td>NaN</td>\n      <td>(none)</td>\n      <td>zimmr001</td>\n      <td>Ryan Zimmerman</td>\n      <td>hudst001</td>\n      <td>Tim Hudson</td>\n      <td>pereo001</td>\n      <td>Odalis Perez</td>\n      <td>johnk003</td>\n      <td>Kelly Johnson</td>\n      <td>4</td>\n      <td>escoy001</td>\n      <td>Yunel Escobar</td>\n      <td>6</td>\n      <td>jonec004</td>\n      <td>Chipper Jones</td>\n      <td>5</td>\n      <td>teixm001</td>\n      <td>Mark Teixeira</td>\n      <td>3</td>\n      <td>franj004</td>\n      <td>Jeff Francoeur</td>\n      <td>9</td>\n      <td>mccab002</td>\n      <td>Brian McCann</td>\n      <td>2</td>\n      <td>diazm003</td>\n      <td>Matt Diaz</td>\n      <td>7</td>\n      <td>kotsm001</td>\n      <td>Mark Kotsay</td>\n      <td>8</td>\n      <td>hudst001</td>\n      <td>Tim Hudson</td>\n      <td>1</td>\n      <td>guzmc001</td>\n      <td>Cristian Guzman</td>\n      <td>6</td>\n      <td>milll002</td>\n      <td>Lastings Milledge</td>\n      <td>8</td>\n      <td>zimmr001</td>\n      <td>Ryan Zimmerman</td>\n      <td>5</td>\n      <td>johnn001</td>\n      <td>Nick Johnson</td>\n      <td>3</td>\n      <td>keara001</td>\n      <td>Austin Kearns</td>\n      <td>9</td>\n      <td>lodup001</td>\n      <td>Paul Lo Duca</td>\n      <td>2</td>\n      <td>dukee001</td>\n      <td>Elijah Dukes</td>\n      <td>7</td>\n      <td>bellr002</td>\n      <td>Ronnie Belliard</td>\n      <td>4</td>\n      <td>pereo001</td>\n      <td>Odalis Perez</td>\n      <td>1</td>\n      <td>NaN</td>\n      <td>Y</td>\n      <td>WAS</td>\n    </tr>\n    <tr>\n      <th>3</th>\n      <td>20080331</td>\n      <td>0</td>\n      <td>Mon</td>\n      <td>PIT</td>\n      <td>NL</td>\n      <td>1</td>\n      <td>ATL</td>\n      <td>NL</td>\n      <td>2</td>\n      <td>12</td>\n      <td>11</td>\n      <td>72</td>\n      <td>N</td>\n      <td>NaN</td>\n      <td>NaN</td>\n      <td>NaN</td>\n      <td>ATL02</td>\n      <td>45269.0</td>\n      <td>268</td>\n      <td>010101141003</td>\n      <td>003100005002</td>\n      <td>49</td>\n      <td>17</td>\n      <td>5</td>\n      <td>0</td>\n      <td>3</td>\n      <td>10</td>\n      <td>4</td>\n      <td>0</td>\n      <td>0</td>\n      <td>7</td>\n      <td>1</td>\n      <td>11</td>\n      <td>0</td>\n      <td>0</td>\n      <td>1</td>\n      <td>0</td>\n      <td>12</td>\n      <td>6</td>\n      <td>11</td>\n      <td>11</td>\n      <td>1</td>\n      <td>0</td>\n      <td>36</td>\n      <td>15</td>\n      <td>0</td>\n      <td>0</td>\n      <td>2</td>\n      <td>0</td>\n      <td>46</td>\n      <td>12</td>\n      <td>1</td>\n      <td>1</td>\n      <td>2</td>\n      <td>11</td>\n      <td>0</td>\n      <td>0</td>\n      <td>0</td>\n      <td>8</td>\n      <td>0</td>\n      <td>7</td>\n      <td>0</td>\n      <td>0</td>\n      <td>1</td>\n      <td>0</td>\n      <td>7</td>\n      <td>9</td>\n      <td>10</td>\n      <td>10</td>\n      <td>2</td>\n      <td>0</td>\n      <td>36</td>\n      <td>14</td>\n      <td>3</td>\n      <td>0</td>\n      <td>1</td>\n      <td>0</td>\n      <td>westj901</td>\n      <td>Joe West</td>\n      <td>rapue901</td>\n      <td>Ed Rapuano</td>\n      <td>hicke901</td>\n      <td>Ed Hickox</td>\n      <td>buckc901</td>\n      <td>CB Bucknor</td>\n      <td>NaN</td>\n      <td>(none)</td>\n      <td>NaN</td>\n      <td>(none)</td>\n      <td>russj002</td>\n      <td>John Russell</td>\n      <td>cox-b103</td>\n      <td>Bobby Cox</td>\n      <td>osorf001</td>\n      <td>Franquelis Osoria</td>\n      <td>boyeb001</td>\n      <td>Blaine Boyer</td>\n      <td>NaN</td>\n      <td>(none)</td>\n      <td>nadyx001</td>\n      <td>Xavier Nady</td>\n      <td>sneli001</td>\n      <td>Ian Snell</td>\n      <td>glavt001</td>\n      <td>Tom Glavine</td>\n      <td>mclon001</td>\n      <td>Nate McLouth</td>\n      <td>8</td>\n      <td>sancf001</td>\n      <td>Freddy Sanchez</td>\n      <td>4</td>\n      <td>bay-j001</td>\n      <td>Jason Bay</td>\n      <td>7</td>\n      <td>laroa001</td>\n      <td>Adam LaRoche</td>\n      <td>3</td>\n      <td>nadyx001</td>\n      <td>Xavier Nady</td>\n      <td>9</td>\n      <td>doumr001</td>\n      <td>Ryan Doumit</td>\n      <td>2</td>\n      <td>bautj002</td>\n      <td>Jose Bautista</td>\n      <td>5</td>\n      <td>wilsj002</td>\n      <td>Jack Wilson</td>\n      <td>6</td>\n      <td>sneli001</td>\n      <td>Ian Snell</td>\n      <td>1</td>\n      <td>johnk003</td>\n      <td>Kelly Johnson</td>\n      <td>4</td>\n      <td>escoy001</td>\n      <td>Yunel Escobar</td>\n      <td>6</td>\n      <td>jonec004</td>\n      <td>Chipper Jones</td>\n      <td>5</td>\n      <td>teixm001</td>\n      <td>Mark Teixeira</td>\n      <td>3</td>\n      <td>mccab002</td>\n      <td>Brian McCann</td>\n      <td>2</td>\n      <td>franj004</td>\n      <td>Jeff Francoeur</td>\n      <td>9</td>\n      <td>kotsm001</td>\n      <td>Mark Kotsay</td>\n      <td>8</td>\n      <td>diazm003</td>\n      <td>Matt Diaz</td>\n      <td>7</td>\n      <td>glavt001</td>\n      <td>Tom Glavine</td>\n      <td>1</td>\n      <td>NaN</td>\n      <td>Y</td>\n      <td>PIT</td>\n    </tr>\n    <tr>\n      <th>4</th>\n      <td>20080331</td>\n      <td>0</td>\n      <td>Mon</td>\n      <td>MIL</td>\n      <td>NL</td>\n      <td>1</td>\n      <td>CHN</td>\n      <td>NL</td>\n      <td>1</td>\n      <td>4</td>\n      <td>3</td>\n      <td>60</td>\n      <td>D</td>\n      <td>NaN</td>\n      <td>NaN</td>\n      <td>NaN</td>\n      <td>CHI11</td>\n      <td>41089.0</td>\n      <td>179</td>\n      <td>0000000031</td>\n      <td>0000000030</td>\n      <td>33</td>\n      <td>7</td>\n      <td>3</td>\n      <td>0</td>\n      <td>0</td>\n      <td>4</td>\n      <td>2</td>\n      <td>1</td>\n      <td>2</td>\n      <td>2</td>\n      <td>1</td>\n      <td>9</td>\n      <td>1</td>\n      <td>0</td>\n      <td>0</td>\n      <td>0</td>\n      <td>6</td>\n      <td>5</td>\n      <td>3</td>\n      <td>3</td>\n      <td>0</td>\n      <td>0</td>\n      <td>30</td>\n      <td>8</td>\n      <td>0</td>\n      <td>0</td>\n      <td>0</td>\n      <td>0</td>\n      <td>34</td>\n      <td>5</td>\n      <td>1</td>\n      <td>0</td>\n      <td>1</td>\n      <td>3</td>\n      <td>0</td>\n      <td>0</td>\n      <td>1</td>\n      <td>4</td>\n      <td>0</td>\n      <td>10</td>\n      <td>0</td>\n      <td>0</td>\n      <td>0</td>\n      <td>0</td>\n      <td>6</td>\n      <td>4</td>\n      <td>4</td>\n      <td>4</td>\n      <td>0</td>\n      <td>0</td>\n      <td>30</td>\n      <td>8</td>\n      <td>0</td>\n      <td>0</td>\n      <td>0</td>\n      <td>0</td>\n      <td>cedeg901</td>\n      <td>Gary Cederstrom</td>\n      <td>culbf901</td>\n      <td>Fieldin Culbreth</td>\n      <td>reynj901</td>\n      <td>Jim Reynolds</td>\n      <td>timmt901</td>\n      <td>Tim Timmons</td>\n      <td>NaN</td>\n      <td>(none)</td>\n      <td>NaN</td>\n      <td>(none)</td>\n      <td>yoste001</td>\n      <td>Ned Yost</td>\n      <td>pinil001</td>\n      <td>Lou Piniella</td>\n      <td>gagne001</td>\n      <td>Eric Gagne</td>\n      <td>howrb001</td>\n      <td>Bob Howry</td>\n      <td>riskd001</td>\n      <td>David Riske</td>\n      <td>gwynt002</td>\n      <td>Tony Gwynn</td>\n      <td>sheeb001</td>\n      <td>Ben Sheets</td>\n      <td>zambc001</td>\n      <td>Carlos Zambrano</td>\n      <td>weekr001</td>\n      <td>Rickie Weeks</td>\n      <td>4</td>\n      <td>gwynt002</td>\n      <td>Tony Gwynn</td>\n      <td>8</td>\n      <td>fielp001</td>\n      <td>Prince Fielder</td>\n      <td>3</td>\n      <td>braur002</td>\n      <td>Ryan Braun</td>\n      <td>7</td>\n      <td>hallb001</td>\n      <td>Bill Hall</td>\n      <td>5</td>\n      <td>hartc001</td>\n      <td>Corey Hart</td>\n      <td>9</td>\n      <td>hardj003</td>\n      <td>J.J. Hardy</td>\n      <td>6</td>\n      <td>sheeb001</td>\n      <td>Ben Sheets</td>\n      <td>1</td>\n      <td>kendj001</td>\n      <td>Jason Kendall</td>\n      <td>2</td>\n      <td>therr001</td>\n      <td>Ryan Theriot</td>\n      <td>6</td>\n      <td>soria001</td>\n      <td>Alfonso Soriano</td>\n      <td>7</td>\n      <td>lee-d002</td>\n      <td>Derrek Lee</td>\n      <td>3</td>\n      <td>ramia001</td>\n      <td>Aramis Ramirez</td>\n      <td>5</td>\n      <td>fukuk001</td>\n      <td>Kosuke Fukudome</td>\n      <td>9</td>\n      <td>derom001</td>\n      <td>Mark DeRosa</td>\n      <td>4</td>\n      <td>sotog001</td>\n      <td>Geovany Soto</td>\n      <td>2</td>\n      <td>pie-f001</td>\n      <td>Felix Pie</td>\n      <td>8</td>\n      <td>zambc001</td>\n      <td>Carlos Zambrano</td>\n      <td>1</td>\n      <td>NaN</td>\n      <td>Y</td>\n      <td>MIL</td>\n    </tr>\n  </tbody>\n</table>\n</div>",
      "text/plain": "       date  game_num day_of_week visiting_team visiting_team_league  visiting_game_num home_team home_team_league  home_team_game_num  visiting_score  home_score  num_outs day_night completion_info  forfeit_info protest_info park_id  attendance  time_of_game_minutes visiting_line_score home_line_score  visiting_abs  visiting_hits  visiting_doubles  visiting_triples  visiting_homeruns  visiting_rbi  visiting_sac_hits  visiting_sac_flies  visiting_hbp  visiting_bb  visiting_iw  visiting_k  visiting_sb  visiting_cs  visiting_gdp  visiting_ci  visiting_lob  visiting_pitchers_used  visiting_individual_er  visiting_er  visiting__wp  visiting_balks  visiting_po  visiting_assists  visiting_errors  visiting_pb  visiting_dp  visiting_tp  home_abs  home_hits  home_doubles  home_triples  home_homeruns  home_rbi  home_sac_hits  home_sac_flies  home_hbp  home_bb  home_iw  home_k  home_sb  home_cs  home_gdp  home_ci  home_lob  home_pitchers_used  home_individual_er  home_er  home_wp  home_balks  \\\n0  20080325         0         Tue           BOS                   AL                  1       OAK               AL                   1               6           5        60         N             NaN           NaN          NaN   TOK01     44628.0                   219          0000030012      2000020001            38             11                 3                 0                  1             6                  1                   0             0            3            2           7            0            0             2            0             6                       6                       5            5             1               0           30                15                0            0            0            0        36          7             1             0              2         5              0               0         1        7        0      10        1        0         0        0         9                   5                   6        6        0           0   \n1  20080326         0         Wed           BOS                   AL                  2       OAK               AL                   2               1           5        51         N             NaN           NaN          NaN   TOK01     44735.0                   171           000001000       01300001x            31              5                 1                 0                  1             1                  0                   0             0            3            0          13            1            0             2            0             6                       5                       5            5             0               0           24                 8                0            0            0            0        33          9             3             0              1         5              0               0         0        4        0       7        0        0         0        0         8                   4                   1        1        1           0   \n2  20080330         0         Sun           ATL                   NL                  1       WAS               NL                   1               2           3        53         N             NaN           NaN          NaN   WAS11     39389.0                   142           000100001       200000001            30              5                 1                 0                  1             1                  1                   0             0            2            0           3            0            1             0            0             4                       3                       3            3             0               0           26                12                1            0            0            0        30          4             1             0              1         3              0               0         0        0        0       5        0        0         0        0         1                   5                   1        1        0           0   \n3  20080331         0         Mon           PIT                   NL                  1       ATL               NL                   2              12          11        72         N             NaN           NaN          NaN   ATL02     45269.0                   268        010101141003    003100005002            49             17                 5                 0                  3            10                  4                   0             0            7            1          11            0            0             1            0            12                       6                      11           11             1               0           36                15                0            0            2            0        46         12             1             1              2        11              0               0         0        8        0       7        0        0         1        0         7                   9                  10       10        2           0   \n4  20080331         0         Mon           MIL                   NL                  1       CHN               NL                   1               4           3        60         D             NaN           NaN          NaN   CHI11     41089.0                   179          0000000031      0000000030            33              7                 3                 0                  0             4                  2                   1             2            2            1           9            1            0             0            0             6                       5                       3            3             0               0           30                 8                0            0            0            0        34          5             1             0              1         3              0               0         1        4        0      10        0        0         0        0         6                   4                   4        4        0           0   \n\n   home_po  home_assists  home_errors  home_pb  home_dp  home_tp ump_home_id       ump_home_name ump_first_id      ump_first_name ump_second_id  ump_second_name ump_third_id ump_third_name ump_lf_id ump_lf_name ump_rf_id ump_rf_name visiting_manager_id visiting_manager_name home_manager_id home_manager_name winning_pitcher_id winning_pitcher_name losing_pitcher_id losing_pitcher_name save_pitcher_id  save_pitcher_name game_winning_rbi_id game_winning_rbi_name visiting_starting_pitcher_id visiting_starting_pitcher_name home_starting_pitcher_id home_starting_pitcher_name visiting_1_id visiting_1_name  visiting_1_pos visiting_2_id visiting_2_name  visiting_2_pos visiting_2_id.1 visiting_3_name  visiting_3_pos visiting_4_id visiting_4_name  visiting_4_pos visiting_5_id visiting_5_name  visiting_5_pos visiting_6_id visiting_6_name  visiting_6_pos visiting_7_id visiting_7_name  visiting_7_pos visiting_8_id  visiting_8_name  visiting_8_pos visiting_9_id visiting_9_name  visiting_9_pos  \\\n0       30            12            0        0        2        0    reedr901           Rick Reed     wendh902  Hunter Wendelstedt      timmt901      Tim Timmons     nauep901    Paul Nauert       NaN      (none)       NaN      (none)            frant001        Terry Francona        gereb001         Bob Geren           okajh001       Hideki Okajima          streh001       Huston Street        papej001  Jonathan Papelbon            ramim002         Manny Ramirez                     matsd001              Daisuke Matsuzaka                 blanj001                Joe Blanton      pedrd001  Dustin Pedroia               4      youkk001  Kevin Youkilis               3        ortid001     David Ortiz              10      ramim002   Manny Ramirez               7      lowem001     Mike Lowell               5      mossb001    Brandon Moss               9      varij001   Jason Varitek               2      ellsj001  Jacoby Ellsbury               8      lugoj001      Julio Lugo               6   \n1       27             5            1        0        2        0    wendh902  Hunter Wendelstedt     timmt901         Tim Timmons      nauep901      Paul Nauert     reedr901      Rick Reed       NaN      (none)       NaN      (none)            frant001        Terry Francona        gereb001         Bob Geren           hardr001          Rich Harden          lestj001          Jon Lester             NaN             (none)            denoc001        Chris Denorfia                     lestj001                     Jon Lester                 hardr001                Rich Harden      pedrd001  Dustin Pedroia               4      youkk001  Kevin Youkilis               3        ortid001     David Ortiz              10      ramim002   Manny Ramirez               7      lowem001     Mike Lowell               5      mossb001    Brandon Moss               9      varij001   Jason Varitek               2      crisc001       Coco Crisp               8      lugoj001      Julio Lugo               6   \n2       27            13            1        1        0        0    reilm901         Mike Reilly     davib902        Bob Davidson      marqa901  Alfonso Marquez     fleta901  Andy Fletcher       NaN      (none)       NaN      (none)            cox-b103             Bobby Cox        actam801        Manny Acta           raucj001            Jon Rauch          moylp001        Peter Moylan             NaN             (none)            zimmr001        Ryan Zimmerman                     hudst001                     Tim Hudson                 pereo001               Odalis Perez      johnk003   Kelly Johnson               4      escoy001   Yunel Escobar               6        jonec004   Chipper Jones               5      teixm001   Mark Teixeira               3      franj004  Jeff Francoeur               9      mccab002    Brian McCann               2      diazm003       Matt Diaz               7      kotsm001      Mark Kotsay               8      hudst001      Tim Hudson               1   \n3       36            14            3        0        1        0    westj901            Joe West     rapue901          Ed Rapuano      hicke901        Ed Hickox     buckc901     CB Bucknor       NaN      (none)       NaN      (none)            russj002          John Russell        cox-b103         Bobby Cox           osorf001    Franquelis Osoria          boyeb001        Blaine Boyer             NaN             (none)            nadyx001           Xavier Nady                     sneli001                      Ian Snell                 glavt001                Tom Glavine      mclon001    Nate McLouth               8      sancf001  Freddy Sanchez               4        bay-j001       Jason Bay               7      laroa001    Adam LaRoche               3      nadyx001     Xavier Nady               9      doumr001     Ryan Doumit               2      bautj002   Jose Bautista               5      wilsj002      Jack Wilson               6      sneli001       Ian Snell               1   \n4       30             8            0        0        0        0    cedeg901     Gary Cederstrom     culbf901    Fieldin Culbreth      reynj901     Jim Reynolds     timmt901    Tim Timmons       NaN      (none)       NaN      (none)            yoste001              Ned Yost        pinil001      Lou Piniella           gagne001           Eric Gagne          howrb001           Bob Howry        riskd001        David Riske            gwynt002            Tony Gwynn                     sheeb001                     Ben Sheets                 zambc001            Carlos Zambrano      weekr001    Rickie Weeks               4      gwynt002      Tony Gwynn               8        fielp001  Prince Fielder               3      braur002      Ryan Braun               7      hallb001       Bill Hall               5      hartc001      Corey Hart               9      hardj003      J.J. Hardy               6      sheeb001       Ben Sheets               1      kendj001   Jason Kendall               2   \n\n  home_1_id      home_1_name  home_1_pos home_2_id        home_2_name  home_2_pos home_3_id     home_3_name  home_3_pos home_4_id     home_4_name  home_4_pos home_5_id      home_5_name  home_5_pos home_6_id     home_6_name  home_6_pos home_7_id    home_7_name  home_7_pos home_8_id      home_8_name  home_8_pos home_9_id      home_9_name  home_9_pos misc acquisition_info  win  \n0  buckt001      Travis Buck           9  ellim001         Mark Ellis           4  bartd001    Daric Barton           3  custj001       Jack Cust          10  browe001       Emil Brown           7  crosb002    Bobby Crosby           6  hannj001  Jack Hannahan           5  suzuk001      Kurt Suzuki           2  sweer001     Ryan Sweeney           8  NaN                Y  BOS  \n1  buckt001      Travis Buck           9  ellim001         Mark Ellis           4  bartd001    Daric Barton           3  sweem002    Mike Sweeney          10  browe001       Emil Brown           7  crosb002    Bobby Crosby           6  hannj001  Jack Hannahan           5  suzuk001      Kurt Suzuki           2  denoc001   Chris Denorfia           8  NaN                Y  OAK  \n2  guzmc001  Cristian Guzman           6  milll002  Lastings Milledge           8  zimmr001  Ryan Zimmerman           5  johnn001    Nick Johnson           3  keara001    Austin Kearns           9  lodup001    Paul Lo Duca           2  dukee001   Elijah Dukes           7  bellr002  Ronnie Belliard           4  pereo001     Odalis Perez           1  NaN                Y  WAS  \n3  johnk003    Kelly Johnson           4  escoy001      Yunel Escobar           6  jonec004   Chipper Jones           5  teixm001   Mark Teixeira           3  mccab002     Brian McCann           2  franj004  Jeff Francoeur           9  kotsm001    Mark Kotsay           8  diazm003        Matt Diaz           7  glavt001      Tom Glavine           1  NaN                Y  PIT  \n4  therr001     Ryan Theriot           6  soria001    Alfonso Soriano           7  lee-d002      Derrek Lee           3  ramia001  Aramis Ramirez           5  fukuk001  Kosuke Fukudome           9  derom001     Mark DeRosa           4  sotog001   Geovany Soto           2  pie-f001        Felix Pie           8  zambc001  Carlos Zambrano           1  NaN                Y  MIL  "
     },
     "execution_count": 76,
     "metadata": {},
     "output_type": "execute_result"
    }
   ],
   "source": [
    "frame.head()"
   ]
  },
  {
   "cell_type": "code",
   "execution_count": 77,
   "metadata": {},
   "outputs": [
    {
     "name": "stdout",
     "output_type": "stream",
     "text": "date\ngame_num\nday_of_week\nvisiting_team\nvisiting_team_league\nvisiting_game_num\nhome_team\nhome_team_league\nhome_team_game_num\nvisiting_score\nhome_score\nnum_outs\nday_night\ncompletion_info\nforfeit_info\nprotest_info\npark_id\nattendance\ntime_of_game_minutes\nvisiting_line_score\nhome_line_score\nvisiting_abs\nvisiting_hits\nvisiting_doubles\nvisiting_triples\nvisiting_homeruns\nvisiting_rbi\nvisiting_sac_hits\nvisiting_sac_flies\nvisiting_hbp\nvisiting_bb\nvisiting_iw\nvisiting_k\nvisiting_sb\nvisiting_cs\nvisiting_gdp\nvisiting_ci\nvisiting_lob\nvisiting_pitchers_used\nvisiting_individual_er\nvisiting_er\nvisiting__wp\nvisiting_balks\nvisiting_po\nvisiting_assists\nvisiting_errors\nvisiting_pb\nvisiting_dp\nvisiting_tp\nhome_abs\nhome_hits\nhome_doubles\nhome_triples\nhome_homeruns\nhome_rbi\nhome_sac_hits\nhome_sac_flies\nhome_hbp\nhome_bb\nhome_iw\nhome_k\nhome_sb\nhome_cs\nhome_gdp\nhome_ci\nhome_lob\nhome_pitchers_used\nhome_individual_er\nhome_er\nhome_wp\nhome_balks\nhome_po\nhome_assists\nhome_errors\nhome_pb\nhome_dp\nhome_tp\nump_home_id\nump_home_name\nump_first_id\nump_first_name\nump_second_id\nump_second_name\nump_third_id\nump_third_name\nump_lf_id\nump_lf_name\nump_rf_id\nump_rf_name\nvisiting_manager_id\nvisiting_manager_name\nhome_manager_id\nhome_manager_name\nwinning_pitcher_id\nwinning_pitcher_name\nlosing_pitcher_id\nlosing_pitcher_name\nsave_pitcher_id\nsave_pitcher_name\ngame_winning_rbi_id\ngame_winning_rbi_name\nvisiting_starting_pitcher_id\nvisiting_starting_pitcher_name\nhome_starting_pitcher_id\nhome_starting_pitcher_name\nvisiting_1_id\nvisiting_1_name\nvisiting_1_pos\nvisiting_2_id\nvisiting_2_name\nvisiting_2_pos\nvisiting_2_id.1\nvisiting_3_name\nvisiting_3_pos\nvisiting_4_id\nvisiting_4_name\nvisiting_4_pos\nvisiting_5_id\nvisiting_5_name\nvisiting_5_pos\nvisiting_6_id\nvisiting_6_name\nvisiting_6_pos\nvisiting_7_id\nvisiting_7_name\nvisiting_7_pos\nvisiting_8_id\nvisiting_8_name\nvisiting_8_pos\nvisiting_9_id\nvisiting_9_name\nvisiting_9_pos\nhome_1_id\nhome_1_name\nhome_1_pos\nhome_2_id\nhome_2_name\nhome_2_pos\nhome_3_id\nhome_3_name\nhome_3_pos\nhome_4_id\nhome_4_name\nhome_4_pos\nhome_5_id\nhome_5_name\nhome_5_pos\nhome_6_id\nhome_6_name\nhome_6_pos\nhome_7_id\nhome_7_name\nhome_7_pos\nhome_8_id\nhome_8_name\nhome_8_pos\nhome_9_id\nhome_9_name\nhome_9_pos\nmisc\nacquisition_info\nwin\n"
    }
   ],
   "source": [
    "for x in frame.columns:\n",
    "    print(x)"
   ]
  },
  {
   "cell_type": "code",
   "execution_count": 78,
   "metadata": {},
   "outputs": [],
   "source": [
    "#isolate all columns with future information, these details wouldnt be known until the conclusion of the game \n",
    "drops = ['visiting_score',\n",
    "'home_score',\n",
    "'num_outs',\n",
    "'completion_info',\n",
    "'forfeit_info',\n",
    "'protest_info',\n",
    "'attendance',\n",
    "'time_of_game_minutes',\n",
    "'visiting_line_score',\n",
    "'home_line_score',\n",
    "'visiting_abs',\n",
    "'visiting_hits',\n",
    "'visiting_doubles',\n",
    "'visiting_triples',\n",
    "'visiting_homeruns',\n",
    "'visiting_rbi',\n",
    "'visiting_sac_hits',\n",
    "'visiting_sac_flies',\n",
    "'visiting_hbp',\n",
    "'visiting_bb',\n",
    "'visiting_iw',\n",
    "'visiting_k',\n",
    "'visiting_sb',\n",
    "'visiting_cs',\n",
    "'visiting_gdp',\n",
    "'visiting_ci',\n",
    "'visiting_lob',\n",
    "'visiting_pitchers_used',\n",
    "'visiting_individual_er',\n",
    "'visiting_er',\n",
    "'visiting__wp',\n",
    "'visiting_balks',\n",
    "'visiting_po',\n",
    "'visiting_assists',\n",
    "'visiting_errors',\n",
    "'visiting_pb',\n",
    "'visiting_dp',\n",
    "'visiting_tp',\n",
    "'home_abs',\n",
    "'home_hits',\n",
    "'home_doubles',\n",
    "'home_triples',\n",
    "'home_homeruns',\n",
    "'home_rbi',\n",
    "'home_sac_hits',\n",
    "'home_sac_flies',\n",
    "'home_hbp',\n",
    "'home_bb',\n",
    "'home_iw',\n",
    "'home_k',\n",
    "'home_sb',\n",
    "'home_cs',\n",
    "'home_gdp',\n",
    "'home_ci',\n",
    "'home_lob',\n",
    "'home_pitchers_used',\n",
    "'home_individual_er',\n",
    "'home_er',\n",
    "'home_wp',\n",
    "'home_balks',\n",
    "'home_po',\n",
    "'home_assists',\n",
    "'home_errors',\n",
    "'home_pb',\n",
    "'home_dp',\n",
    "'home_tp',\n",
    "'winning_pitcher_id',\n",
    "'winning_pitcher_name',\n",
    "'losing_pitcher_id',\n",
    "'losing_pitcher_name',\n",
    "'save_pitcher_id',\n",
    "'save_pitcher_name',\n",
    "'game_winning_rbi_id',\n",
    "'game_winning_rbi_name',\n",
    "'misc',\n",
    "'acquisition_info',\n",
    "'visiting_manager_id',\n",
    "'home_manager_id',\n",
    "'visiting_starting_pitcher_id',\n",
    "'home_starting_pitcher_id',\n",
    "'visiting_1_id',\n",
    "'visiting_2_id',\n",
    "'visiting_2_id.1',\n",
    "'visiting_4_id',\n",
    "'visiting_5_id',\n",
    "'visiting_6_id',\n",
    "'visiting_7_id',\n",
    "'visiting_8_id',\n",
    "'visiting_9_id',\n",
    "'home_1_id',\n",
    "'home_2_id',\n",
    "'home_3_id',\n",
    "'home_4_id',\n",
    "'home_5_id',\n",
    "'home_6_id',\n",
    "'home_7_id',\n",
    "'home_8_id',\n",
    "'home_9_id',\n",
    "'ump_home_id',\n",
    "'ump_home_name',\n",
    "'ump_first_id',\n",
    "'ump_first_name',\n",
    "'ump_second_id',\n",
    "'ump_second_name',\n",
    "'ump_third_id',\n",
    "'ump_third_name' ,\n",
    "'ump_lf_id',\n",
    "'ump_lf_name',\n",
    "'ump_rf_id',\n",
    "'ump_rf_name']"
   ]
  },
  {
   "cell_type": "code",
   "execution_count": 79,
   "metadata": {},
   "outputs": [],
   "source": [
    "kill_time_trvl = frame.drop(drops, axis=1)"
   ]
  },
  {
   "cell_type": "code",
   "execution_count": 80,
   "metadata": {},
   "outputs": [
    {
     "data": {
      "text/html": "<div>\n<style scoped>\n    .dataframe tbody tr th:only-of-type {\n        vertical-align: middle;\n    }\n\n    .dataframe tbody tr th {\n        vertical-align: top;\n    }\n\n    .dataframe thead th {\n        text-align: right;\n    }\n</style>\n<table border=\"1\" class=\"dataframe\">\n  <thead>\n    <tr style=\"text-align: right;\">\n      <th></th>\n      <th>date</th>\n      <th>game_num</th>\n      <th>day_of_week</th>\n      <th>visiting_team</th>\n      <th>visiting_team_league</th>\n      <th>visiting_game_num</th>\n      <th>home_team</th>\n      <th>home_team_league</th>\n      <th>home_team_game_num</th>\n      <th>day_night</th>\n      <th>park_id</th>\n      <th>visiting_manager_name</th>\n      <th>home_manager_name</th>\n      <th>visiting_starting_pitcher_name</th>\n      <th>home_starting_pitcher_name</th>\n      <th>visiting_1_name</th>\n      <th>visiting_1_pos</th>\n      <th>visiting_2_name</th>\n      <th>visiting_2_pos</th>\n      <th>visiting_3_name</th>\n      <th>visiting_3_pos</th>\n      <th>visiting_4_name</th>\n      <th>visiting_4_pos</th>\n      <th>visiting_5_name</th>\n      <th>visiting_5_pos</th>\n      <th>visiting_6_name</th>\n      <th>visiting_6_pos</th>\n      <th>visiting_7_name</th>\n      <th>visiting_7_pos</th>\n      <th>visiting_8_name</th>\n      <th>visiting_8_pos</th>\n      <th>visiting_9_name</th>\n      <th>visiting_9_pos</th>\n      <th>home_1_name</th>\n      <th>home_1_pos</th>\n      <th>home_2_name</th>\n      <th>home_2_pos</th>\n      <th>home_3_name</th>\n      <th>home_3_pos</th>\n      <th>home_4_name</th>\n      <th>home_4_pos</th>\n      <th>home_5_name</th>\n      <th>home_5_pos</th>\n      <th>home_6_name</th>\n      <th>home_6_pos</th>\n      <th>home_7_name</th>\n      <th>home_7_pos</th>\n      <th>home_8_name</th>\n      <th>home_8_pos</th>\n      <th>home_9_name</th>\n      <th>home_9_pos</th>\n      <th>win</th>\n    </tr>\n  </thead>\n  <tbody>\n    <tr>\n      <th>0</th>\n      <td>20080325</td>\n      <td>0</td>\n      <td>Tue</td>\n      <td>BOS</td>\n      <td>AL</td>\n      <td>1</td>\n      <td>OAK</td>\n      <td>AL</td>\n      <td>1</td>\n      <td>N</td>\n      <td>TOK01</td>\n      <td>Terry Francona</td>\n      <td>Bob Geren</td>\n      <td>Daisuke Matsuzaka</td>\n      <td>Joe Blanton</td>\n      <td>Dustin Pedroia</td>\n      <td>4</td>\n      <td>Kevin Youkilis</td>\n      <td>3</td>\n      <td>David Ortiz</td>\n      <td>10</td>\n      <td>Manny Ramirez</td>\n      <td>7</td>\n      <td>Mike Lowell</td>\n      <td>5</td>\n      <td>Brandon Moss</td>\n      <td>9</td>\n      <td>Jason Varitek</td>\n      <td>2</td>\n      <td>Jacoby Ellsbury</td>\n      <td>8</td>\n      <td>Julio Lugo</td>\n      <td>6</td>\n      <td>Travis Buck</td>\n      <td>9</td>\n      <td>Mark Ellis</td>\n      <td>4</td>\n      <td>Daric Barton</td>\n      <td>3</td>\n      <td>Jack Cust</td>\n      <td>10</td>\n      <td>Emil Brown</td>\n      <td>7</td>\n      <td>Bobby Crosby</td>\n      <td>6</td>\n      <td>Jack Hannahan</td>\n      <td>5</td>\n      <td>Kurt Suzuki</td>\n      <td>2</td>\n      <td>Ryan Sweeney</td>\n      <td>8</td>\n      <td>BOS</td>\n    </tr>\n    <tr>\n      <th>1</th>\n      <td>20080326</td>\n      <td>0</td>\n      <td>Wed</td>\n      <td>BOS</td>\n      <td>AL</td>\n      <td>2</td>\n      <td>OAK</td>\n      <td>AL</td>\n      <td>2</td>\n      <td>N</td>\n      <td>TOK01</td>\n      <td>Terry Francona</td>\n      <td>Bob Geren</td>\n      <td>Jon Lester</td>\n      <td>Rich Harden</td>\n      <td>Dustin Pedroia</td>\n      <td>4</td>\n      <td>Kevin Youkilis</td>\n      <td>3</td>\n      <td>David Ortiz</td>\n      <td>10</td>\n      <td>Manny Ramirez</td>\n      <td>7</td>\n      <td>Mike Lowell</td>\n      <td>5</td>\n      <td>Brandon Moss</td>\n      <td>9</td>\n      <td>Jason Varitek</td>\n      <td>2</td>\n      <td>Coco Crisp</td>\n      <td>8</td>\n      <td>Julio Lugo</td>\n      <td>6</td>\n      <td>Travis Buck</td>\n      <td>9</td>\n      <td>Mark Ellis</td>\n      <td>4</td>\n      <td>Daric Barton</td>\n      <td>3</td>\n      <td>Mike Sweeney</td>\n      <td>10</td>\n      <td>Emil Brown</td>\n      <td>7</td>\n      <td>Bobby Crosby</td>\n      <td>6</td>\n      <td>Jack Hannahan</td>\n      <td>5</td>\n      <td>Kurt Suzuki</td>\n      <td>2</td>\n      <td>Chris Denorfia</td>\n      <td>8</td>\n      <td>OAK</td>\n    </tr>\n    <tr>\n      <th>2</th>\n      <td>20080330</td>\n      <td>0</td>\n      <td>Sun</td>\n      <td>ATL</td>\n      <td>NL</td>\n      <td>1</td>\n      <td>WAS</td>\n      <td>NL</td>\n      <td>1</td>\n      <td>N</td>\n      <td>WAS11</td>\n      <td>Bobby Cox</td>\n      <td>Manny Acta</td>\n      <td>Tim Hudson</td>\n      <td>Odalis Perez</td>\n      <td>Kelly Johnson</td>\n      <td>4</td>\n      <td>Yunel Escobar</td>\n      <td>6</td>\n      <td>Chipper Jones</td>\n      <td>5</td>\n      <td>Mark Teixeira</td>\n      <td>3</td>\n      <td>Jeff Francoeur</td>\n      <td>9</td>\n      <td>Brian McCann</td>\n      <td>2</td>\n      <td>Matt Diaz</td>\n      <td>7</td>\n      <td>Mark Kotsay</td>\n      <td>8</td>\n      <td>Tim Hudson</td>\n      <td>1</td>\n      <td>Cristian Guzman</td>\n      <td>6</td>\n      <td>Lastings Milledge</td>\n      <td>8</td>\n      <td>Ryan Zimmerman</td>\n      <td>5</td>\n      <td>Nick Johnson</td>\n      <td>3</td>\n      <td>Austin Kearns</td>\n      <td>9</td>\n      <td>Paul Lo Duca</td>\n      <td>2</td>\n      <td>Elijah Dukes</td>\n      <td>7</td>\n      <td>Ronnie Belliard</td>\n      <td>4</td>\n      <td>Odalis Perez</td>\n      <td>1</td>\n      <td>WAS</td>\n    </tr>\n    <tr>\n      <th>3</th>\n      <td>20080331</td>\n      <td>0</td>\n      <td>Mon</td>\n      <td>PIT</td>\n      <td>NL</td>\n      <td>1</td>\n      <td>ATL</td>\n      <td>NL</td>\n      <td>2</td>\n      <td>N</td>\n      <td>ATL02</td>\n      <td>John Russell</td>\n      <td>Bobby Cox</td>\n      <td>Ian Snell</td>\n      <td>Tom Glavine</td>\n      <td>Nate McLouth</td>\n      <td>8</td>\n      <td>Freddy Sanchez</td>\n      <td>4</td>\n      <td>Jason Bay</td>\n      <td>7</td>\n      <td>Adam LaRoche</td>\n      <td>3</td>\n      <td>Xavier Nady</td>\n      <td>9</td>\n      <td>Ryan Doumit</td>\n      <td>2</td>\n      <td>Jose Bautista</td>\n      <td>5</td>\n      <td>Jack Wilson</td>\n      <td>6</td>\n      <td>Ian Snell</td>\n      <td>1</td>\n      <td>Kelly Johnson</td>\n      <td>4</td>\n      <td>Yunel Escobar</td>\n      <td>6</td>\n      <td>Chipper Jones</td>\n      <td>5</td>\n      <td>Mark Teixeira</td>\n      <td>3</td>\n      <td>Brian McCann</td>\n      <td>2</td>\n      <td>Jeff Francoeur</td>\n      <td>9</td>\n      <td>Mark Kotsay</td>\n      <td>8</td>\n      <td>Matt Diaz</td>\n      <td>7</td>\n      <td>Tom Glavine</td>\n      <td>1</td>\n      <td>PIT</td>\n    </tr>\n    <tr>\n      <th>4</th>\n      <td>20080331</td>\n      <td>0</td>\n      <td>Mon</td>\n      <td>MIL</td>\n      <td>NL</td>\n      <td>1</td>\n      <td>CHN</td>\n      <td>NL</td>\n      <td>1</td>\n      <td>D</td>\n      <td>CHI11</td>\n      <td>Ned Yost</td>\n      <td>Lou Piniella</td>\n      <td>Ben Sheets</td>\n      <td>Carlos Zambrano</td>\n      <td>Rickie Weeks</td>\n      <td>4</td>\n      <td>Tony Gwynn</td>\n      <td>8</td>\n      <td>Prince Fielder</td>\n      <td>3</td>\n      <td>Ryan Braun</td>\n      <td>7</td>\n      <td>Bill Hall</td>\n      <td>5</td>\n      <td>Corey Hart</td>\n      <td>9</td>\n      <td>J.J. Hardy</td>\n      <td>6</td>\n      <td>Ben Sheets</td>\n      <td>1</td>\n      <td>Jason Kendall</td>\n      <td>2</td>\n      <td>Ryan Theriot</td>\n      <td>6</td>\n      <td>Alfonso Soriano</td>\n      <td>7</td>\n      <td>Derrek Lee</td>\n      <td>3</td>\n      <td>Aramis Ramirez</td>\n      <td>5</td>\n      <td>Kosuke Fukudome</td>\n      <td>9</td>\n      <td>Mark DeRosa</td>\n      <td>4</td>\n      <td>Geovany Soto</td>\n      <td>2</td>\n      <td>Felix Pie</td>\n      <td>8</td>\n      <td>Carlos Zambrano</td>\n      <td>1</td>\n      <td>MIL</td>\n    </tr>\n  </tbody>\n</table>\n</div>",
      "text/plain": "       date  game_num day_of_week visiting_team visiting_team_league  visiting_game_num home_team home_team_league  home_team_game_num day_night park_id visiting_manager_name home_manager_name visiting_starting_pitcher_name home_starting_pitcher_name visiting_1_name  visiting_1_pos visiting_2_name  visiting_2_pos visiting_3_name  visiting_3_pos visiting_4_name  visiting_4_pos visiting_5_name  visiting_5_pos visiting_6_name  visiting_6_pos visiting_7_name  visiting_7_pos  visiting_8_name  visiting_8_pos visiting_9_name  visiting_9_pos      home_1_name  home_1_pos        home_2_name  home_2_pos     home_3_name  home_3_pos     home_4_name  home_4_pos      home_5_name  home_5_pos     home_6_name  home_6_pos    home_7_name  home_7_pos      home_8_name  home_8_pos      home_9_name  home_9_pos  win\n0  20080325         0         Tue           BOS                   AL                  1       OAK               AL                   1         N   TOK01        Terry Francona         Bob Geren              Daisuke Matsuzaka                Joe Blanton  Dustin Pedroia               4  Kevin Youkilis               3     David Ortiz              10   Manny Ramirez               7     Mike Lowell               5    Brandon Moss               9   Jason Varitek               2  Jacoby Ellsbury               8      Julio Lugo               6      Travis Buck           9         Mark Ellis           4    Daric Barton           3       Jack Cust          10       Emil Brown           7    Bobby Crosby           6  Jack Hannahan           5      Kurt Suzuki           2     Ryan Sweeney           8  BOS\n1  20080326         0         Wed           BOS                   AL                  2       OAK               AL                   2         N   TOK01        Terry Francona         Bob Geren                     Jon Lester                Rich Harden  Dustin Pedroia               4  Kevin Youkilis               3     David Ortiz              10   Manny Ramirez               7     Mike Lowell               5    Brandon Moss               9   Jason Varitek               2       Coco Crisp               8      Julio Lugo               6      Travis Buck           9         Mark Ellis           4    Daric Barton           3    Mike Sweeney          10       Emil Brown           7    Bobby Crosby           6  Jack Hannahan           5      Kurt Suzuki           2   Chris Denorfia           8  OAK\n2  20080330         0         Sun           ATL                   NL                  1       WAS               NL                   1         N   WAS11             Bobby Cox        Manny Acta                     Tim Hudson               Odalis Perez   Kelly Johnson               4   Yunel Escobar               6   Chipper Jones               5   Mark Teixeira               3  Jeff Francoeur               9    Brian McCann               2       Matt Diaz               7      Mark Kotsay               8      Tim Hudson               1  Cristian Guzman           6  Lastings Milledge           8  Ryan Zimmerman           5    Nick Johnson           3    Austin Kearns           9    Paul Lo Duca           2   Elijah Dukes           7  Ronnie Belliard           4     Odalis Perez           1  WAS\n3  20080331         0         Mon           PIT                   NL                  1       ATL               NL                   2         N   ATL02          John Russell         Bobby Cox                      Ian Snell                Tom Glavine    Nate McLouth               8  Freddy Sanchez               4       Jason Bay               7    Adam LaRoche               3     Xavier Nady               9     Ryan Doumit               2   Jose Bautista               5      Jack Wilson               6       Ian Snell               1    Kelly Johnson           4      Yunel Escobar           6   Chipper Jones           5   Mark Teixeira           3     Brian McCann           2  Jeff Francoeur           9    Mark Kotsay           8        Matt Diaz           7      Tom Glavine           1  PIT\n4  20080331         0         Mon           MIL                   NL                  1       CHN               NL                   1         D   CHI11              Ned Yost      Lou Piniella                     Ben Sheets            Carlos Zambrano    Rickie Weeks               4      Tony Gwynn               8  Prince Fielder               3      Ryan Braun               7       Bill Hall               5      Corey Hart               9      J.J. Hardy               6       Ben Sheets               1   Jason Kendall               2     Ryan Theriot           6    Alfonso Soriano           7      Derrek Lee           3  Aramis Ramirez           5  Kosuke Fukudome           9     Mark DeRosa           4   Geovany Soto           2        Felix Pie           8  Carlos Zambrano           1  MIL"
     },
     "execution_count": 80,
     "metadata": {},
     "output_type": "execute_result"
    }
   ],
   "source": [
    "kill_time_trvl.head()"
   ]
  },
  {
   "cell_type": "code",
   "execution_count": 81,
   "metadata": {},
   "outputs": [
    {
     "data": {
      "text/html": "<div>\n<style scoped>\n    .dataframe tbody tr th:only-of-type {\n        vertical-align: middle;\n    }\n\n    .dataframe tbody tr th {\n        vertical-align: top;\n    }\n\n    .dataframe thead th {\n        text-align: right;\n    }\n</style>\n<table border=\"1\" class=\"dataframe\">\n  <thead>\n    <tr style=\"text-align: right;\">\n      <th></th>\n      <th>day_of_week</th>\n      <th>visiting_team</th>\n      <th>visiting_team_league</th>\n      <th>home_team</th>\n      <th>home_team_league</th>\n      <th>day_night</th>\n      <th>park_id</th>\n      <th>visiting_manager_name</th>\n      <th>home_manager_name</th>\n      <th>visiting_starting_pitcher_name</th>\n      <th>home_starting_pitcher_name</th>\n      <th>visiting_1_name</th>\n      <th>visiting_2_name</th>\n      <th>visiting_3_name</th>\n      <th>visiting_4_name</th>\n      <th>visiting_5_name</th>\n      <th>visiting_6_name</th>\n      <th>visiting_7_name</th>\n      <th>visiting_8_name</th>\n      <th>visiting_9_name</th>\n      <th>home_1_name</th>\n      <th>home_2_name</th>\n      <th>home_3_name</th>\n      <th>home_4_name</th>\n      <th>home_5_name</th>\n      <th>home_6_name</th>\n      <th>home_7_name</th>\n      <th>home_8_name</th>\n      <th>home_9_name</th>\n      <th>win</th>\n    </tr>\n  </thead>\n  <tbody>\n    <tr>\n      <th>count</th>\n      <td>26726</td>\n      <td>26726</td>\n      <td>26726</td>\n      <td>26726</td>\n      <td>26726</td>\n      <td>26726</td>\n      <td>26726</td>\n      <td>26726</td>\n      <td>26726</td>\n      <td>26726</td>\n      <td>26726</td>\n      <td>26726</td>\n      <td>26726</td>\n      <td>26726</td>\n      <td>26726</td>\n      <td>26726</td>\n      <td>26726</td>\n      <td>26726</td>\n      <td>26726</td>\n      <td>26726</td>\n      <td>26726</td>\n      <td>26726</td>\n      <td>26726</td>\n      <td>26726</td>\n      <td>26726</td>\n      <td>26726</td>\n      <td>26726</td>\n      <td>26726</td>\n      <td>26726</td>\n      <td>26726</td>\n    </tr>\n    <tr>\n      <th>unique</th>\n      <td>7</td>\n      <td>31</td>\n      <td>2</td>\n      <td>31</td>\n      <td>2</td>\n      <td>2</td>\n      <td>42</td>\n      <td>97</td>\n      <td>99</td>\n      <td>961</td>\n      <td>953</td>\n      <td>612</td>\n      <td>881</td>\n      <td>596</td>\n      <td>598</td>\n      <td>921</td>\n      <td>1167</td>\n      <td>1334</td>\n      <td>1488</td>\n      <td>1790</td>\n      <td>602</td>\n      <td>891</td>\n      <td>581</td>\n      <td>588</td>\n      <td>896</td>\n      <td>1155</td>\n      <td>1328</td>\n      <td>1430</td>\n      <td>1381</td>\n      <td>31</td>\n    </tr>\n    <tr>\n      <th>top</th>\n      <td>Sat</td>\n      <td>MIL</td>\n      <td>NL</td>\n      <td>TEX</td>\n      <td>NL</td>\n      <td>N</td>\n      <td>MIL06</td>\n      <td>Joe Maddon</td>\n      <td>Joe Maddon</td>\n      <td>Justin Verlander</td>\n      <td>James Shields</td>\n      <td>Denard Span</td>\n      <td>Dustin Pedroia</td>\n      <td>Joey Votto</td>\n      <td>Adrian Beltre</td>\n      <td>Jay Bruce</td>\n      <td>Yadier Molina</td>\n      <td>Mark Reynolds</td>\n      <td>Jeff Mathis</td>\n      <td>Cliff Pennington</td>\n      <td>Denard Span</td>\n      <td>Dustin Pedroia</td>\n      <td>Ryan Braun</td>\n      <td>Adrian Beltre</td>\n      <td>Jay Bruce</td>\n      <td>Yadier Molina</td>\n      <td>J.J. Hardy</td>\n      <td>Jordy Mercer</td>\n      <td>Brendan Ryan</td>\n      <td>NYA</td>\n    </tr>\n    <tr>\n      <th>freq</th>\n      <td>4337</td>\n      <td>892</td>\n      <td>13766</td>\n      <td>892</td>\n      <td>13766</td>\n      <td>17947</td>\n      <td>896</td>\n      <td>892</td>\n      <td>892</td>\n      <td>179</td>\n      <td>182</td>\n      <td>585</td>\n      <td>408</td>\n      <td>639</td>\n      <td>523</td>\n      <td>319</td>\n      <td>235</td>\n      <td>154</td>\n      <td>213</td>\n      <td>196</td>\n      <td>572</td>\n      <td>416</td>\n      <td>622</td>\n      <td>522</td>\n      <td>299</td>\n      <td>256</td>\n      <td>157</td>\n      <td>225</td>\n      <td>200</td>\n      <td>1010</td>\n    </tr>\n  </tbody>\n</table>\n</div>",
      "text/plain": "       day_of_week visiting_team visiting_team_league home_team home_team_league day_night park_id visiting_manager_name home_manager_name visiting_starting_pitcher_name home_starting_pitcher_name visiting_1_name visiting_2_name visiting_3_name visiting_4_name visiting_5_name visiting_6_name visiting_7_name visiting_8_name   visiting_9_name  home_1_name     home_2_name home_3_name    home_4_name home_5_name    home_6_name home_7_name   home_8_name   home_9_name    win\ncount        26726         26726                26726     26726            26726     26726   26726                 26726             26726                          26726                      26726           26726           26726           26726           26726           26726           26726           26726           26726             26726        26726           26726       26726          26726       26726          26726       26726         26726         26726  26726\nunique           7            31                    2        31                2         2      42                    97                99                            961                        953             612             881             596             598             921            1167            1334            1488              1790          602             891         581            588         896           1155        1328          1430          1381     31\ntop            Sat           MIL                   NL       TEX               NL         N   MIL06            Joe Maddon        Joe Maddon               Justin Verlander              James Shields     Denard Span  Dustin Pedroia      Joey Votto   Adrian Beltre       Jay Bruce   Yadier Molina   Mark Reynolds     Jeff Mathis  Cliff Pennington  Denard Span  Dustin Pedroia  Ryan Braun  Adrian Beltre   Jay Bruce  Yadier Molina  J.J. Hardy  Jordy Mercer  Brendan Ryan    NYA\nfreq          4337           892                13766       892            13766     17947     896                   892               892                            179                        182             585             408             639             523             319             235             154             213               196          572             416         622            522         299            256         157           225           200   1010"
     },
     "execution_count": 81,
     "metadata": {},
     "output_type": "execute_result"
    }
   ],
   "source": [
    "kill_time_trvl.describe(include='object')"
   ]
  },
  {
   "cell_type": "code",
   "execution_count": 82,
   "metadata": {},
   "outputs": [
    {
     "data": {
      "text/plain": "date                              0\ngame_num                          0\nday_of_week                       0\nvisiting_team                     0\nvisiting_team_league              0\nvisiting_game_num                 0\nhome_team                         0\nhome_team_league                  0\nhome_team_game_num                0\nday_night                         0\npark_id                           0\nvisiting_manager_name             0\nhome_manager_name                 0\nvisiting_starting_pitcher_name    0\nhome_starting_pitcher_name        0\nvisiting_1_name                   0\nvisiting_1_pos                    0\nvisiting_2_name                   0\nvisiting_2_pos                    0\nvisiting_3_name                   0\nvisiting_3_pos                    0\nvisiting_4_name                   0\nvisiting_4_pos                    0\nvisiting_5_name                   0\nvisiting_5_pos                    0\nvisiting_6_name                   0\nvisiting_6_pos                    0\nvisiting_7_name                   0\nvisiting_7_pos                    0\nvisiting_8_name                   0\nvisiting_8_pos                    0\nvisiting_9_name                   0\nvisiting_9_pos                    0\nhome_1_name                       0\nhome_1_pos                        0\nhome_2_name                       0\nhome_2_pos                        0\nhome_3_name                       0\nhome_3_pos                        0\nhome_4_name                       0\nhome_4_pos                        0\nhome_5_name                       0\nhome_5_pos                        0\nhome_6_name                       0\nhome_6_pos                        0\nhome_7_name                       0\nhome_7_pos                        0\nhome_8_name                       0\nhome_8_pos                        0\nhome_9_name                       0\nhome_9_pos                        0\nwin                               0\ndtype: int64"
     },
     "execution_count": 82,
     "metadata": {},
     "output_type": "execute_result"
    }
   ],
   "source": [
    "kill_time_trvl.isna().sum()"
   ]
  },
  {
   "cell_type": "code",
   "execution_count": 105,
   "metadata": {},
   "outputs": [],
   "source": [
    "kill_time_trvl.to_csv('C:\\\\Users\\\\dakot\\\\Documents\\\\GitHub\\\\baseball-game-prediction-ds\\\\baseball_notebooks\\\\Data\\\\kill_time_trvl.csv')"
   ]
  },
  {
   "cell_type": "code",
   "execution_count": 87,
   "metadata": {},
   "outputs": [],
   "source": [
    "y = kill_time_trvl['win']\n",
    "X = kill_time_trvl.drop(columns='win', axis = 1)"
   ]
  },
  {
   "cell_type": "code",
   "execution_count": 88,
   "metadata": {},
   "outputs": [
    {
     "data": {
      "text/plain": "(26726,)"
     },
     "execution_count": 88,
     "metadata": {},
     "output_type": "execute_result"
    }
   ],
   "source": [
    "y.shape\n"
   ]
  },
  {
   "cell_type": "code",
   "execution_count": 89,
   "metadata": {},
   "outputs": [],
   "source": [
    "# Need to encode X to model logistic, multiclass \n",
    "# Look into wrapping multiple paired team models in a single function \n",
    "# Deploy the thing!"
   ]
  },
  {
   "cell_type": "code",
   "execution_count": 90,
   "metadata": {},
   "outputs": [
    {
     "data": {
      "text/plain": "Index(['date', 'game_num', 'day_of_week', 'visiting_team', 'visiting_team_league', 'visiting_game_num', 'home_team', 'home_team_league', 'home_team_game_num', 'day_night', 'park_id', 'visiting_manager_name', 'home_manager_name', 'visiting_starting_pitcher_name', 'home_starting_pitcher_name', 'visiting_1_name', 'visiting_1_pos', 'visiting_2_name', 'visiting_2_pos', 'visiting_3_name', 'visiting_3_pos', 'visiting_4_name', 'visiting_4_pos', 'visiting_5_name', 'visiting_5_pos', 'visiting_6_name', 'visiting_6_pos', 'visiting_7_name', 'visiting_7_pos', 'visiting_8_name', 'visiting_8_pos', 'visiting_9_name', 'visiting_9_pos', 'home_1_name', 'home_1_pos', 'home_2_name', 'home_2_pos', 'home_3_name', 'home_3_pos', 'home_4_name', 'home_4_pos', 'home_5_name', 'home_5_pos', 'home_6_name', 'home_6_pos', 'home_7_name', 'home_7_pos', 'home_8_name', 'home_8_pos', 'home_9_name', 'home_9_pos'], dtype='object')"
     },
     "execution_count": 90,
     "metadata": {},
     "output_type": "execute_result"
    }
   ],
   "source": [
    "X.columns"
   ]
  },
  {
   "cell_type": "code",
   "execution_count": 91,
   "metadata": {},
   "outputs": [],
   "source": [
    "# use Binary encoding to take care of categoricals and labels without adding too much dimensionality \n",
    "import category_encoders as ce"
   ]
  },
  {
   "cell_type": "code",
   "execution_count": 92,
   "metadata": {},
   "outputs": [],
   "source": [
    "# Categorical boolean mask\n",
    "cat_mask = X.dtypes==object\n",
    "# filter categorical columns using mask and turn it into a list\n",
    "cat_cols = X.columns[cat_mask].tolist()"
   ]
  },
  {
   "cell_type": "code",
   "execution_count": 93,
   "metadata": {},
   "outputs": [],
   "source": [
    "ids = ['visiting_manager_id',\n",
    "'home_manager_id',\n",
    "'visiting_starting_pitcher_id',\n",
    "'home_starting_pitcher_id',\n",
    "'visiting_1_id',\n",
    "'visiting_2_id',\n",
    "'visiting_2_id.1',\n",
    "'visiting_4_id',\n",
    "'visiting_5_id',\n",
    "'visiting_6_id',\n",
    "'visiting_7_id',\n",
    "'visiting_8_id',\n",
    "'visiting_9_id',\n",
    "'home_1_id',\n",
    "'home_2_id',\n",
    "'home_3_id',\n",
    "'home_4_id',\n",
    "'home_5_id',\n",
    "'home_6_id',\n",
    "'home_7_id',\n",
    "'home_8_id',\n",
    "'home_9_id']"
   ]
  },
  {
   "cell_type": "code",
   "execution_count": 94,
   "metadata": {},
   "outputs": [],
   "source": [
    "for x in cat_cols:\n",
    "    for i in ids:\n",
    "        if x==i:\n",
    "            cat_cols.remove(x)"
   ]
  },
  {
   "cell_type": "code",
   "execution_count": 95,
   "metadata": {},
   "outputs": [
    {
     "data": {
      "text/plain": "['day_of_week',\n 'visiting_team',\n 'visiting_team_league',\n 'home_team',\n 'home_team_league',\n 'day_night',\n 'park_id',\n 'visiting_manager_name',\n 'home_manager_name',\n 'visiting_starting_pitcher_name',\n 'home_starting_pitcher_name',\n 'visiting_1_name',\n 'visiting_2_name',\n 'visiting_3_name',\n 'visiting_4_name',\n 'visiting_5_name',\n 'visiting_6_name',\n 'visiting_7_name',\n 'visiting_8_name',\n 'visiting_9_name',\n 'home_1_name',\n 'home_2_name',\n 'home_3_name',\n 'home_4_name',\n 'home_5_name',\n 'home_6_name',\n 'home_7_name',\n 'home_8_name',\n 'home_9_name']"
     },
     "execution_count": 95,
     "metadata": {},
     "output_type": "execute_result"
    }
   ],
   "source": [
    "cat_cols\n"
   ]
  },
  {
   "cell_type": "code",
   "execution_count": 96,
   "metadata": {},
   "outputs": [],
   "source": [
    "encoder = ce.BinaryEncoder(cols=cat_cols)\n",
    "X_cat_enc = encoder.fit_transform(X)"
   ]
  },
  {
   "cell_type": "code",
   "execution_count": 97,
   "metadata": {},
   "outputs": [
    {
     "data": {
      "text/plain": "(26726, 295)"
     },
     "execution_count": 97,
     "metadata": {},
     "output_type": "execute_result"
    }
   ],
   "source": [
    "X_cat_enc.shape #soooo many columns, but we shall workwith it for now"
   ]
  },
  {
   "cell_type": "code",
   "execution_count": 98,
   "metadata": {},
   "outputs": [
    {
     "data": {
      "text/plain": "((26726, 295), (26726,))"
     },
     "execution_count": 98,
     "metadata": {},
     "output_type": "execute_result"
    }
   ],
   "source": [
    "X_cat_enc.shape, y.shape"
   ]
  },
  {
   "cell_type": "code",
   "execution_count": 99,
   "metadata": {},
   "outputs": [],
   "source": [
    "X_train, X_test, y_train, y_test = tts(X_cat_enc,y,test_size=0.2, random_state=42 )"
   ]
  },
  {
   "cell_type": "code",
   "execution_count": 100,
   "metadata": {},
   "outputs": [
    {
     "data": {
      "text/plain": "((21380, 295), (5346, 295), (21380,), (5346,))"
     },
     "execution_count": 100,
     "metadata": {},
     "output_type": "execute_result"
    }
   ],
   "source": [
    "X_train.shape, X_test.shape, y_train.shape, y_test.shape"
   ]
  },
  {
   "cell_type": "code",
   "execution_count": 101,
   "metadata": {},
   "outputs": [],
   "source": [
    "# l_model = lr(multi_class='multinomial',solver='newton-cg', max_iter=300)\n",
    "# l_model.fit(X_train,y_train)"
   ]
  },
  {
   "cell_type": "code",
   "execution_count": 102,
   "metadata": {},
   "outputs": [],
   "source": [
    "# drag df back in for other tests and less overhead \n",
    "# will need to split again \n",
    "# try catboost without encoding"
   ]
  },
  {
   "cell_type": "code",
   "execution_count": 103,
   "metadata": {},
   "outputs": [],
   "source": [
    "import pybaseball as pb \n",
    "import pandas as pd \n",
    "import numpy as np \n",
    "import matplotlib.pyplot as plt\n",
    "from pybaseball import statcast\n",
    "import glob\n",
    "import pandas_profiling as pp\n",
    "from sklearn.model_selection import train_test_split as tts\n",
    "from sklearn.linear_model import LogisticRegression as lr, LogisticRegressionCV as lrcv\n",
    "import json"
   ]
  },
  {
   "cell_type": "code",
   "execution_count": 106,
   "metadata": {},
   "outputs": [
    {
     "data": {
      "text/plain": "(26726, 53)"
     },
     "execution_count": 106,
     "metadata": {},
     "output_type": "execute_result"
    }
   ],
   "source": [
    "reup = pd.read_csv('C:\\\\Users\\\\dakot\\\\Documents\\\\GitHub\\\\baseball-game-prediction-ds\\\\baseball_notebooks\\\\Data\\\\kill_time_trvl.csv')\n",
    "reup.shape"
   ]
  },
  {
   "cell_type": "code",
   "execution_count": 108,
   "metadata": {},
   "outputs": [],
   "source": [
    "reup.drop('Unnamed: 0', axis=1,inplace=True)"
   ]
  },
  {
   "cell_type": "markdown",
   "metadata": {},
   "source": [
    "### Given the format we will be recieiving from the web request we need to change some team abbreviations so the model is prepared for them"
   ]
  },
  {
   "cell_type": "markdown",
   "metadata": {},
   "source": [
    "### Current team abbreviations are ANA, ARI, ATL, BAL, BOS, CHA (Chicago American – Whit Sox), CHN (Chicago National – Cubs), CIN, CLE, COL, DET, FLO, HOU, KCA, LAN, MIL, MIN, NYA, NYN, OAK, PHI, PIT, SDN, SEA, SFN, SLN, TBA, TEX, TOR, and WAS\n",
    "\n",
    "### need to filter and change them to match [ARI,ATL,BAL,BOS,CHC,CIN,CLE,COL,CWS,DET,HOU,KC,LAA,LAD,MIW,MIL,MIN,NYM,NYY,OAK,PHI,PIT,SD,SEA,SF,STL,TB,TEX,TOR,WSH"
   ]
  },
  {
   "cell_type": "code",
   "execution_count": 109,
   "metadata": {},
   "outputs": [],
   "source": [
    "#dict and replace method will need to run model and pickle again. \n",
    "change_name = {'ANA':'LAA', 'ARI':'ARI', 'ATL':'ATL', 'BAL':'BAL', 'BOS':'BOS', 'CHA':'CWS', 'CHN':'CHC', 'CIN':'CIN', 'CLE':'CLE', 'COL':'COL', 'DET':'DET', 'FLO':'MIA', 'HOU':'HOU', 'KCA':'KC', 'LAN':'LAD', 'MIL':'MIL', 'MIN':'MIN', 'NYA':'NYY', 'NYN':'NYM', 'OAK':'OAK', 'PHI':'PHI', 'PIT':'PIT', 'SDN':'SD', 'SEA':'SEA', 'SFN':'SF', 'SLN':'STL', 'TBA':'TB', 'TEX':'TEX', 'TOR':'TOR', 'WAS':'WSH'}"
   ]
  },
  {
   "cell_type": "code",
   "execution_count": 110,
   "metadata": {},
   "outputs": [],
   "source": [
    "reup= reup.replace(change_name)"
   ]
  },
  {
   "cell_type": "code",
   "execution_count": 118,
   "metadata": {},
   "outputs": [],
   "source": [
    "reup.home_team.unique()"
   ]
  },
  {
   "cell_type": "markdown",
   "execution_count": null,
   "metadata": {},
   "outputs": [],
   "source": [
    "## Now we need to handle discrepancies in how the venues or parks are identified, have to map for that lets go Numeric. \n"
   ]
  },
  {
   "cell_type": "code",
   "execution_count": 120,
   "metadata": {},
   "outputs": [],
   "source": [
    "parks = reup.park_id.unique()"
   ]
  },
  {
   "cell_type": "code",
   "execution_count": 123,
   "metadata": {},
   "outputs": [],
   "source": [
    "plist = list(parks)"
   ]
  },
  {
   "cell_type": "code",
   "execution_count": null,
   "metadata": {},
   "outputs": [],
   "source": []
  },
  {
   "cell_type": "code",
   "execution_count": 142,
   "metadata": {},
   "outputs": [],
   "source": [
    "park_rep = {'TOK01': 147, 'WAS11': 121, 'ATL02':136, 'CHI11': 133, 'CIN09': 116, 'MIA01':118, 'Los03': 113, 'PHI13': 110, 'SAN02': 124, 'BAL12': 123, 'CLE08': 126, 'DET05': 111, 'MIN03': 129, 'SEA03': 128, 'STL10': 107, 'NYC16': 134, 'OAK01': 64, 'DEN02': 112, 'MIL06': 119, 'ANA01': 105, 'TOR02': 127, 'PHO01': 108, 'HOU03': 120, 'PIT08': 125, 'SFO03': 106, 'CHI12': 132, 'NYC17': 109, 'BOS07': 114, 'KAN06': 117, 'STP01': 130, 'ARL02': 115, 'NYC20': 109, 'NYC21': 134, 'MIN04': 129, 'MIA02': 118, 'ATL03': 136}"
   ]
  },
  {
   "cell_type": "code",
   "execution_count": 146,
   "metadata": {},
   "outputs": [],
   "source": [
    "reup = reup.replace(park_rep)\n"
   ]
  },
  {
   "cell_type": "markdown",
   "execution_count": 148,
   "metadata": {},
   "outputs": [
    {
     "data": {
      "text/plain": "array(['Tue', 'Wed', 'Sun', 'Mon', 'Thu', 'Fri', 'Sat'], dtype=object)"
     },
     "execution_count": 148,
     "metadata": {},
     "output_type": "execute_result"
    }
   ],
   "source": [
    "### Organize days of week to numeric"
   ]
  },
  {
   "cell_type": "code",
   "execution_count": 149,
   "metadata": {},
   "outputs": [
    {
     "data": {
      "text/plain": "array(['Tue', 'Wed', 'Sun', 'Mon', 'Thu', 'Fri', 'Sat'], dtype=object)"
     },
     "execution_count": 149,
     "metadata": {},
     "output_type": "execute_result"
    }
   ],
   "source": [
    "reup.day_of_week.unique()"
   ]
  },
  {
   "cell_type": "code",
   "execution_count": 150,
   "metadata": {},
   "outputs": [],
   "source": [
    "day_dict = {'Sun': 0, 'Mon': 1, 'Tue': 2, 'Wed': 3, 'Thu': 4, 'Fri': 5, 'Sat': 6}"
   ]
  },
  {
   "cell_type": "code",
   "execution_count": 151,
   "metadata": {},
   "outputs": [],
   "source": [
    "reup = reup.replace(day_dict)"
   ]
  },
  {
   "cell_type": "code",
   "execution_count": 152,
   "metadata": {},
   "outputs": [
    {
     "data": {
      "text/html": "<div>\n<style scoped>\n    .dataframe tbody tr th:only-of-type {\n        vertical-align: middle;\n    }\n\n    .dataframe tbody tr th {\n        vertical-align: top;\n    }\n\n    .dataframe thead th {\n        text-align: right;\n    }\n</style>\n<table border=\"1\" class=\"dataframe\">\n  <thead>\n    <tr style=\"text-align: right;\">\n      <th></th>\n      <th>date</th>\n      <th>game_num</th>\n      <th>day_of_week</th>\n      <th>visiting_team</th>\n      <th>visiting_team_league</th>\n      <th>visiting_game_num</th>\n      <th>home_team</th>\n      <th>home_team_league</th>\n      <th>home_team_game_num</th>\n      <th>day_night</th>\n      <th>park_id</th>\n      <th>visiting_manager_name</th>\n      <th>home_manager_name</th>\n      <th>visiting_starting_pitcher_name</th>\n      <th>home_starting_pitcher_name</th>\n      <th>visiting_1_name</th>\n      <th>visiting_1_pos</th>\n      <th>visiting_2_name</th>\n      <th>visiting_2_pos</th>\n      <th>visiting_3_name</th>\n      <th>visiting_3_pos</th>\n      <th>visiting_4_name</th>\n      <th>visiting_4_pos</th>\n      <th>visiting_5_name</th>\n      <th>visiting_5_pos</th>\n      <th>visiting_6_name</th>\n      <th>visiting_6_pos</th>\n      <th>visiting_7_name</th>\n      <th>visiting_7_pos</th>\n      <th>visiting_8_name</th>\n      <th>visiting_8_pos</th>\n      <th>visiting_9_name</th>\n      <th>visiting_9_pos</th>\n      <th>home_1_name</th>\n      <th>home_1_pos</th>\n      <th>home_2_name</th>\n      <th>home_2_pos</th>\n      <th>home_3_name</th>\n      <th>home_3_pos</th>\n      <th>home_4_name</th>\n      <th>home_4_pos</th>\n      <th>home_5_name</th>\n      <th>home_5_pos</th>\n      <th>home_6_name</th>\n      <th>home_6_pos</th>\n      <th>home_7_name</th>\n      <th>home_7_pos</th>\n      <th>home_8_name</th>\n      <th>home_8_pos</th>\n      <th>home_9_name</th>\n      <th>home_9_pos</th>\n      <th>win</th>\n    </tr>\n  </thead>\n  <tbody>\n    <tr>\n      <th>0</th>\n      <td>20080325</td>\n      <td>0</td>\n      <td>2</td>\n      <td>BOS</td>\n      <td>AL</td>\n      <td>1</td>\n      <td>OAK</td>\n      <td>AL</td>\n      <td>1</td>\n      <td>N</td>\n      <td>147</td>\n      <td>Terry Francona</td>\n      <td>Bob Geren</td>\n      <td>Daisuke Matsuzaka</td>\n      <td>Joe Blanton</td>\n      <td>Dustin Pedroia</td>\n      <td>4</td>\n      <td>Kevin Youkilis</td>\n      <td>3</td>\n      <td>David Ortiz</td>\n      <td>10</td>\n      <td>Manny Ramirez</td>\n      <td>7</td>\n      <td>Mike Lowell</td>\n      <td>5</td>\n      <td>Brandon Moss</td>\n      <td>9</td>\n      <td>Jason Varitek</td>\n      <td>2</td>\n      <td>Jacoby Ellsbury</td>\n      <td>8</td>\n      <td>Julio Lugo</td>\n      <td>6</td>\n      <td>Travis Buck</td>\n      <td>9</td>\n      <td>Mark Ellis</td>\n      <td>4</td>\n      <td>Daric Barton</td>\n      <td>3</td>\n      <td>Jack Cust</td>\n      <td>10</td>\n      <td>Emil Brown</td>\n      <td>7</td>\n      <td>Bobby Crosby</td>\n      <td>6</td>\n      <td>Jack Hannahan</td>\n      <td>5</td>\n      <td>Kurt Suzuki</td>\n      <td>2</td>\n      <td>Ryan Sweeney</td>\n      <td>8</td>\n      <td>BOS</td>\n    </tr>\n    <tr>\n      <th>1</th>\n      <td>20080326</td>\n      <td>0</td>\n      <td>3</td>\n      <td>BOS</td>\n      <td>AL</td>\n      <td>2</td>\n      <td>OAK</td>\n      <td>AL</td>\n      <td>2</td>\n      <td>N</td>\n      <td>147</td>\n      <td>Terry Francona</td>\n      <td>Bob Geren</td>\n      <td>Jon Lester</td>\n      <td>Rich Harden</td>\n      <td>Dustin Pedroia</td>\n      <td>4</td>\n      <td>Kevin Youkilis</td>\n      <td>3</td>\n      <td>David Ortiz</td>\n      <td>10</td>\n      <td>Manny Ramirez</td>\n      <td>7</td>\n      <td>Mike Lowell</td>\n      <td>5</td>\n      <td>Brandon Moss</td>\n      <td>9</td>\n      <td>Jason Varitek</td>\n      <td>2</td>\n      <td>Coco Crisp</td>\n      <td>8</td>\n      <td>Julio Lugo</td>\n      <td>6</td>\n      <td>Travis Buck</td>\n      <td>9</td>\n      <td>Mark Ellis</td>\n      <td>4</td>\n      <td>Daric Barton</td>\n      <td>3</td>\n      <td>Mike Sweeney</td>\n      <td>10</td>\n      <td>Emil Brown</td>\n      <td>7</td>\n      <td>Bobby Crosby</td>\n      <td>6</td>\n      <td>Jack Hannahan</td>\n      <td>5</td>\n      <td>Kurt Suzuki</td>\n      <td>2</td>\n      <td>Chris Denorfia</td>\n      <td>8</td>\n      <td>OAK</td>\n    </tr>\n    <tr>\n      <th>2</th>\n      <td>20080330</td>\n      <td>0</td>\n      <td>0</td>\n      <td>ATL</td>\n      <td>NL</td>\n      <td>1</td>\n      <td>WSH</td>\n      <td>NL</td>\n      <td>1</td>\n      <td>N</td>\n      <td>121</td>\n      <td>Bobby Cox</td>\n      <td>Manny Acta</td>\n      <td>Tim Hudson</td>\n      <td>Odalis Perez</td>\n      <td>Kelly Johnson</td>\n      <td>4</td>\n      <td>Yunel Escobar</td>\n      <td>6</td>\n      <td>Chipper Jones</td>\n      <td>5</td>\n      <td>Mark Teixeira</td>\n      <td>3</td>\n      <td>Jeff Francoeur</td>\n      <td>9</td>\n      <td>Brian McCann</td>\n      <td>2</td>\n      <td>Matt Diaz</td>\n      <td>7</td>\n      <td>Mark Kotsay</td>\n      <td>8</td>\n      <td>Tim Hudson</td>\n      <td>1</td>\n      <td>Cristian Guzman</td>\n      <td>6</td>\n      <td>Lastings Milledge</td>\n      <td>8</td>\n      <td>Ryan Zimmerman</td>\n      <td>5</td>\n      <td>Nick Johnson</td>\n      <td>3</td>\n      <td>Austin Kearns</td>\n      <td>9</td>\n      <td>Paul Lo Duca</td>\n      <td>2</td>\n      <td>Elijah Dukes</td>\n      <td>7</td>\n      <td>Ronnie Belliard</td>\n      <td>4</td>\n      <td>Odalis Perez</td>\n      <td>1</td>\n      <td>WSH</td>\n    </tr>\n    <tr>\n      <th>3</th>\n      <td>20080331</td>\n      <td>0</td>\n      <td>1</td>\n      <td>PIT</td>\n      <td>NL</td>\n      <td>1</td>\n      <td>ATL</td>\n      <td>NL</td>\n      <td>2</td>\n      <td>N</td>\n      <td>136</td>\n      <td>John Russell</td>\n      <td>Bobby Cox</td>\n      <td>Ian Snell</td>\n      <td>Tom Glavine</td>\n      <td>Nate McLouth</td>\n      <td>8</td>\n      <td>Freddy Sanchez</td>\n      <td>4</td>\n      <td>Jason Bay</td>\n      <td>7</td>\n      <td>Adam LaRoche</td>\n      <td>3</td>\n      <td>Xavier Nady</td>\n      <td>9</td>\n      <td>Ryan Doumit</td>\n      <td>2</td>\n      <td>Jose Bautista</td>\n      <td>5</td>\n      <td>Jack Wilson</td>\n      <td>6</td>\n      <td>Ian Snell</td>\n      <td>1</td>\n      <td>Kelly Johnson</td>\n      <td>4</td>\n      <td>Yunel Escobar</td>\n      <td>6</td>\n      <td>Chipper Jones</td>\n      <td>5</td>\n      <td>Mark Teixeira</td>\n      <td>3</td>\n      <td>Brian McCann</td>\n      <td>2</td>\n      <td>Jeff Francoeur</td>\n      <td>9</td>\n      <td>Mark Kotsay</td>\n      <td>8</td>\n      <td>Matt Diaz</td>\n      <td>7</td>\n      <td>Tom Glavine</td>\n      <td>1</td>\n      <td>PIT</td>\n    </tr>\n    <tr>\n      <th>4</th>\n      <td>20080331</td>\n      <td>0</td>\n      <td>1</td>\n      <td>MIL</td>\n      <td>NL</td>\n      <td>1</td>\n      <td>CHC</td>\n      <td>NL</td>\n      <td>1</td>\n      <td>D</td>\n      <td>133</td>\n      <td>Ned Yost</td>\n      <td>Lou Piniella</td>\n      <td>Ben Sheets</td>\n      <td>Carlos Zambrano</td>\n      <td>Rickie Weeks</td>\n      <td>4</td>\n      <td>Tony Gwynn</td>\n      <td>8</td>\n      <td>Prince Fielder</td>\n      <td>3</td>\n      <td>Ryan Braun</td>\n      <td>7</td>\n      <td>Bill Hall</td>\n      <td>5</td>\n      <td>Corey Hart</td>\n      <td>9</td>\n      <td>J.J. Hardy</td>\n      <td>6</td>\n      <td>Ben Sheets</td>\n      <td>1</td>\n      <td>Jason Kendall</td>\n      <td>2</td>\n      <td>Ryan Theriot</td>\n      <td>6</td>\n      <td>Alfonso Soriano</td>\n      <td>7</td>\n      <td>Derrek Lee</td>\n      <td>3</td>\n      <td>Aramis Ramirez</td>\n      <td>5</td>\n      <td>Kosuke Fukudome</td>\n      <td>9</td>\n      <td>Mark DeRosa</td>\n      <td>4</td>\n      <td>Geovany Soto</td>\n      <td>2</td>\n      <td>Felix Pie</td>\n      <td>8</td>\n      <td>Carlos Zambrano</td>\n      <td>1</td>\n      <td>MIL</td>\n    </tr>\n  </tbody>\n</table>\n</div>",
      "text/plain": "       date  game_num  day_of_week visiting_team visiting_team_league  visiting_game_num home_team home_team_league  home_team_game_num day_night park_id visiting_manager_name home_manager_name visiting_starting_pitcher_name home_starting_pitcher_name visiting_1_name  visiting_1_pos visiting_2_name  visiting_2_pos visiting_3_name  visiting_3_pos visiting_4_name  visiting_4_pos visiting_5_name  visiting_5_pos visiting_6_name  visiting_6_pos visiting_7_name  visiting_7_pos  visiting_8_name  visiting_8_pos visiting_9_name  visiting_9_pos      home_1_name  home_1_pos        home_2_name  home_2_pos     home_3_name  home_3_pos     home_4_name  home_4_pos      home_5_name  home_5_pos     home_6_name  home_6_pos    home_7_name  home_7_pos      home_8_name  home_8_pos      home_9_name  home_9_pos  win\n0  20080325         0            2           BOS                   AL                  1       OAK               AL                   1         N     147        Terry Francona         Bob Geren              Daisuke Matsuzaka                Joe Blanton  Dustin Pedroia               4  Kevin Youkilis               3     David Ortiz              10   Manny Ramirez               7     Mike Lowell               5    Brandon Moss               9   Jason Varitek               2  Jacoby Ellsbury               8      Julio Lugo               6      Travis Buck           9         Mark Ellis           4    Daric Barton           3       Jack Cust          10       Emil Brown           7    Bobby Crosby           6  Jack Hannahan           5      Kurt Suzuki           2     Ryan Sweeney           8  BOS\n1  20080326         0            3           BOS                   AL                  2       OAK               AL                   2         N     147        Terry Francona         Bob Geren                     Jon Lester                Rich Harden  Dustin Pedroia               4  Kevin Youkilis               3     David Ortiz              10   Manny Ramirez               7     Mike Lowell               5    Brandon Moss               9   Jason Varitek               2       Coco Crisp               8      Julio Lugo               6      Travis Buck           9         Mark Ellis           4    Daric Barton           3    Mike Sweeney          10       Emil Brown           7    Bobby Crosby           6  Jack Hannahan           5      Kurt Suzuki           2   Chris Denorfia           8  OAK\n2  20080330         0            0           ATL                   NL                  1       WSH               NL                   1         N     121             Bobby Cox        Manny Acta                     Tim Hudson               Odalis Perez   Kelly Johnson               4   Yunel Escobar               6   Chipper Jones               5   Mark Teixeira               3  Jeff Francoeur               9    Brian McCann               2       Matt Diaz               7      Mark Kotsay               8      Tim Hudson               1  Cristian Guzman           6  Lastings Milledge           8  Ryan Zimmerman           5    Nick Johnson           3    Austin Kearns           9    Paul Lo Duca           2   Elijah Dukes           7  Ronnie Belliard           4     Odalis Perez           1  WSH\n3  20080331         0            1           PIT                   NL                  1       ATL               NL                   2         N     136          John Russell         Bobby Cox                      Ian Snell                Tom Glavine    Nate McLouth               8  Freddy Sanchez               4       Jason Bay               7    Adam LaRoche               3     Xavier Nady               9     Ryan Doumit               2   Jose Bautista               5      Jack Wilson               6       Ian Snell               1    Kelly Johnson           4      Yunel Escobar           6   Chipper Jones           5   Mark Teixeira           3     Brian McCann           2  Jeff Francoeur           9    Mark Kotsay           8        Matt Diaz           7      Tom Glavine           1  PIT\n4  20080331         0            1           MIL                   NL                  1       CHC               NL                   1         D     133              Ned Yost      Lou Piniella                     Ben Sheets            Carlos Zambrano    Rickie Weeks               4      Tony Gwynn               8  Prince Fielder               3      Ryan Braun               7       Bill Hall               5      Corey Hart               9      J.J. Hardy               6       Ben Sheets               1   Jason Kendall               2     Ryan Theriot           6    Alfonso Soriano           7      Derrek Lee           3  Aramis Ramirez           5  Kosuke Fukudome           9     Mark DeRosa           4   Geovany Soto           2        Felix Pie           8  Carlos Zambrano           1  MIL"
     },
     "execution_count": 152,
     "metadata": {},
     "output_type": "execute_result"
    }
   ],
   "source": [
    "reup.head()"
   ]
  },
  {
   "cell_type": "code",
   "execution_count": 153,
   "metadata": {},
   "outputs": [],
   "source": [
    "X_2 = reup.drop(['win'],axis=1)\n",
    "y_2 = reup['win']"
   ]
  },
  {
   "cell_type": "code",
   "execution_count": 154,
   "metadata": {},
   "outputs": [],
   "source": [
    "X_tr, X_tst, y_tr, y_tst = tts(X_2,y_2,test_size=0.2, random_state=42 )"
   ]
  },
  {
   "cell_type": "code",
   "execution_count": 155,
   "metadata": {},
   "outputs": [],
   "source": [
    "from sklearn.metrics import accuracy_score as score"
   ]
  },
  {
   "cell_type": "code",
   "execution_count": 156,
   "metadata": {},
   "outputs": [],
   "source": [
    "from catboost import CatBoostClassifier as cb\n"
   ]
  },
  {
   "cell_type": "code",
   "execution_count": 157,
   "metadata": {},
   "outputs": [
    {
     "data": {
      "text/plain": "date                               int64\ngame_num                           int64\nday_of_week                        int64\nvisiting_team                     object\nvisiting_team_league              object\nvisiting_game_num                  int64\nhome_team                         object\nhome_team_league                  object\nhome_team_game_num                 int64\nday_night                         object\npark_id                           object\nvisiting_manager_name             object\nhome_manager_name                 object\nvisiting_starting_pitcher_name    object\nhome_starting_pitcher_name        object\nvisiting_1_name                   object\nvisiting_1_pos                     int64\nvisiting_2_name                   object\nvisiting_2_pos                     int64\nvisiting_3_name                   object\nvisiting_3_pos                     int64\nvisiting_4_name                   object\nvisiting_4_pos                     int64\nvisiting_5_name                   object\nvisiting_5_pos                     int64\nvisiting_6_name                   object\nvisiting_6_pos                     int64\nvisiting_7_name                   object\nvisiting_7_pos                     int64\nvisiting_8_name                   object\nvisiting_8_pos                     int64\nvisiting_9_name                   object\nvisiting_9_pos                     int64\nhome_1_name                       object\nhome_1_pos                         int64\nhome_2_name                       object\nhome_2_pos                         int64\nhome_3_name                       object\nhome_3_pos                         int64\nhome_4_name                       object\nhome_4_pos                         int64\nhome_5_name                       object\nhome_5_pos                         int64\nhome_6_name                       object\nhome_6_pos                         int64\nhome_7_name                       object\nhome_7_pos                         int64\nhome_8_name                       object\nhome_8_pos                         int64\nhome_9_name                       object\nhome_9_pos                         int64\ndtype: object"
     },
     "execution_count": 157,
     "metadata": {},
     "output_type": "execute_result"
    }
   ],
   "source": [
    "X_2.dtypes"
   ]
  },
  {
   "cell_type": "code",
   "execution_count": 158,
   "metadata": {},
   "outputs": [
    {
     "data": {
      "text/plain": "0        OAK\n1        OAK\n2        WSH\n3        ATL\n4        CHC\n5        CIN\n6        MIA\n7        LAD\n8        PHI\n9         SD\n10       BAL\n11       CLE\n12       DET\n13       MIN\n14       SEA\n15       MIA\n16       LAD\n17        SD\n18       STL\n19       MIN\n20       NYY\n21       OAK\n22       SEA\n23       ATL\n24       CHC\n25       CIN\n26       MIA\n27       LAD\n28       PHI\n29        SD\n30       STL\n31       BAL\n32       CLE\n33       DET\n34       MIN\n35       NYY\n36       OAK\n37       SEA\n38       ATL\n39       CHC\n40       CIN\n41       PHI\n42        SD\n43       STL\n44       CLE\n45       DET\n46       MIN\n47       NYY\n48       CHC\n49       CIN\n50       COL\n51       MIA\n52       MIL\n53        SD\n54       STL\n55       LAA\n56       BAL\n57       DET\n58       MIN\n59       NYY\n60       OAK\n61       TOR\n62       ATL\n63       CHC\n64       CIN\n65       COL\n66       MIA\n67       MIL\n68        SD\n69       STL\n70       LAA\n71       BAL\n72       DET\n73       MIN\n74       NYY\n75       OAK\n76       TOR\n77       ATL\n78       CHC\n79       CIN\n80       COL\n81       MIA\n82       MIL\n83        SD\n84       STL\n85       LAA\n86       BAL\n87       DET\n88       MIN\n89       NYY\n90       OAK\n91       TOR\n92       ARI\n93       CIN\n94       COL\n95       HOU\n96       PIT\n97        SF\n98       WSH\n99       LAA\n100      BAL\n101      CWS\n102      NYY\n103      ARI\n104      COL\n105      HOU\n106      MIL\n107      NYM\n108       SF\n109      LAA\n110      BOS\n111       KC\n112       TB\n113      TEX\n114      TOR\n115      ARI\n116      COL\n117      HOU\n118      MIL\n119      NYM\n120      PIT\n121       SF\n122      WSH\n123      LAA\n124      BOS\n125      CWS\n126       KC\n127       TB\n128      TOR\n129      MIL\n130      NYM\n131      PIT\n132       SF\n133      WSH\n134      BOS\n135       KC\n136       TB\n137      TEX\n138      TEX\n139      TOR\n140      ARI\n141      HOU\n142      LAD\n143      NYM\n144      PHI\n145      PIT\n146       SF\n147      WSH\n148      BOS\n149      CWS\n150      CLE\n151       KC\n152      SEA\n153       TB\n154      TEX\n155      ARI\n156      HOU\n157      LAD\n158      NYM\n159      PHI\n160      PIT\n161       SF\n162      WSH\n163      BOS\n164      CWS\n165      CLE\n166       KC\n167      SEA\n168       TB\n169      TEX\n170      ARI\n171      HOU\n172      LAD\n173      NYM\n174      PHI\n175      PIT\n176       SF\n177      WSH\n178      BOS\n179      CWS\n180      CLE\n181       KC\n182      SEA\n183       TB\n184      TEX\n185      LAD\n186       SF\n187      BAL\n188      CWS\n189      CLE\n190      DET\n191      SEA\n192       TB\n193      TEX\n194      CHC\n195      MIA\n196      LAD\n197      NYM\n198      PHI\n199       SD\n200       SF\n201      STL\n202      BAL\n203      CWS\n204      CLE\n205      DET\n206      SEA\n207       TB\n208      TEX\n209      CHC\n210      MIA\n211      LAD\n212      NYM\n213      PHI\n214       SD\n215       SF\n216      STL\n217      LAA\n218      BAL\n219      CLE\n220      MIN\n221      NYY\n222      OAK\n223      TOR\n224      CHC\n225      MIA\n226      NYM\n227      PHI\n228       SD\n229      STL\n230      LAA\n231      BAL\n232      CLE\n233      MIN\n234      NYY\n235      OAK\n236      TOR\n237      ARI\n238      ATL\n239      CHC\n240      CIN\n241      MIA\n242      HOU\n243      PHI\n244      STL\n245      LAA\n246      BAL\n247      BOS\n248      MIN\n249      OAK\n        ... \n26476     KC\n26477    MIN\n26478    SEA\n26479     TB\n26480    COL\n26481    NYM\n26482    NYM\n26483    STL\n26484    WSH\n26485    LAA\n26486    BAL\n26487    BOS\n26488     KC\n26489    ATL\n26490    CHC\n26491    MIL\n26492    PHI\n26493     SD\n26494     SF\n26495    STL\n26496    LAA\n26497    BAL\n26498    BOS\n26499    CLE\n26500    HOU\n26501     KC\n26502    NYY\n26503     TB\n26504    ATL\n26505    CHC\n26506    MIL\n26507    PHI\n26508     SD\n26509     SF\n26510    STL\n26511    LAA\n26512    BAL\n26513    BOS\n26514    CLE\n26515    HOU\n26516     KC\n26517    NYY\n26518     TB\n26519    ATL\n26520    CHC\n26521    MIL\n26522    PHI\n26523     SD\n26524     SF\n26525    STL\n26526    LAA\n26527    BAL\n26528    BOS\n26529    CLE\n26530    HOU\n26531     KC\n26532    NYY\n26533     TB\n26534    ARI\n26535    ATL\n26536    LAD\n26537    MIA\n26538    MIL\n26539    PHI\n26540    PIT\n26541     SD\n26542    BAL\n26543    DET\n26544    HOU\n26545    TEX\n26546    ARI\n26547    ATL\n26548    LAD\n26549    MIA\n26550    MIL\n26551    PHI\n26552    PIT\n26553     SD\n26554    BAL\n26555    CLE\n26556    DET\n26557    HOU\n26558    NYY\n26559    OAK\n26560    TEX\n26561    ARI\n26562    ATL\n26563    LAD\n26564    MIL\n26565    PHI\n26566    PIT\n26567     SD\n26568    BAL\n26569    CLE\n26570    DET\n26571    HOU\n26572    NYY\n26573    OAK\n26574    TEX\n26575    ATL\n26576    MIA\n26577    WSH\n26578    CLE\n26579    DET\n26580    NYY\n26581    OAK\n26582    TOR\n26583    ARI\n26584    ATL\n26585    LAD\n26586    MIA\n26587    PIT\n26588    STL\n26589    WSH\n26590    CWS\n26591    CLE\n26592    DET\n26593    HOU\n26594    NYY\n26595    OAK\n26596    TEX\n26597    TOR\n26598    ARI\n26599    ATL\n26600    LAD\n26601    MIA\n26602    PIT\n26603    STL\n26604    WSH\n26605    CWS\n26606    CLE\n26607    DET\n26608    HOU\n26609    NYY\n26610    OAK\n26611    TEX\n26612    TOR\n26613    ARI\n26614    ATL\n26615    LAD\n26616    MIA\n26617    PIT\n26618    STL\n26619    WSH\n26620    CWS\n26621    CLE\n26622    DET\n26623    HOU\n26624    NYY\n26625    OAK\n26626    TEX\n26627    TOR\n26628    ARI\n26629    CHC\n26630    COL\n26631     SF\n26632    STL\n26633    WSH\n26634    LAA\n26635    BOS\n26636    CWS\n26637    SEA\n26638     TB\n26639    TOR\n26640    ARI\n26641    CHC\n26642    CIN\n26643    COL\n26644    NYM\n26645     SF\n26646    STL\n26647    WSH\n26648    LAA\n26649    CWS\n26650    MIN\n26651    SEA\n26652     TB\n26653    TOR\n26654    ARI\n26655    CHC\n26656    CIN\n26657    COL\n26658    NYM\n26659     SF\n26660    STL\n26661    WSH\n26662    LAA\n26663    BOS\n26664    BOS\n26665    CWS\n26666    MIN\n26667    SEA\n26668     TB\n26669    TOR\n26670    CHC\n26671    COL\n26672    NYM\n26673     KC\n26674    MIN\n26675    SEA\n26676     TB\n26677    CHC\n26678    CIN\n26679    COL\n26680    MIL\n26681    NYM\n26682    PHI\n26683     SD\n26684     SF\n26685    LAA\n26686    BAL\n26687    BOS\n26688     KC\n26689    MIN\n26690    MIN\n26691    SEA\n26692     TB\n26693    CHC\n26694    CIN\n26695    COL\n26696    MIL\n26697    NYM\n26698    PHI\n26699     SD\n26700     SF\n26701    LAA\n26702    BAL\n26703    BAL\n26704    BOS\n26705     KC\n26706    MIN\n26707    SEA\n26708     TB\n26709    CHC\n26710    CIN\n26711    COL\n26712    MIL\n26713    NYM\n26714    PHI\n26715     SD\n26716     SF\n26717    LAA\n26718    BAL\n26719    BOS\n26720     KC\n26721    MIN\n26722    SEA\n26723     TB\n26724    CHC\n26725    LAD\nName: home_team, Length: 26726, dtype: object"
     },
     "execution_count": 158,
     "metadata": {},
     "output_type": "execute_result"
    }
   ],
   "source": [
    "X_2.home_team"
   ]
  },
  {
   "cell_type": "code",
   "execution_count": 160,
   "metadata": {},
   "outputs": [],
   "source": [
    "categorical_features_indices = np.where(X_2.dtypes != np.int64)[0]"
   ]
  },
  {
   "cell_type": "code",
   "execution_count": 161,
   "metadata": {},
   "outputs": [
    {
     "data": {
      "text/plain": "array([ 3,  4,  6,  7,  9, 10, 11, 12, 13, 14, 15, 17, 19, 21, 23, 25, 27,\n       29, 31, 33, 35, 37, 39, 41, 43, 45, 47, 49], dtype=int64)"
     },
     "execution_count": 161,
     "metadata": {},
     "output_type": "execute_result"
    }
   ],
   "source": [
    "categorical_features_indices"
   ]
  },
  {
   "cell_type": "code",
   "execution_count": 163,
   "metadata": {},
   "outputs": [],
   "source": [
    "kitty = cb(\n",
    "    iterations=40,\n",
    "    depth=10,\n",
    "    learning_rate=0.01,\n",
    "    #random_seed=42,\n",
    "    loss_function='MultiClass',\n",
    "    verbose=True)\n",
    "\n"
   ]
  },
  {
   "cell_type": "code",
   "execution_count": 164,
   "metadata": {},
   "outputs": [
    {
     "name": "stdout",
     "output_type": "stream",
     "text": "0:\tlearn: 3.3568087\ttotal: 16s\tremaining: 10m 24s\n1:\tlearn: 3.3207971\ttotal: 30s\tremaining: 9m 29s\n2:\tlearn: 3.2882670\ttotal: 44.4s\tremaining: 9m 7s\n3:\tlearn: 3.2503369\ttotal: 58.7s\tremaining: 8m 48s\n4:\tlearn: 3.2120794\ttotal: 1m 12s\tremaining: 8m 30s\n5:\tlearn: 3.1771695\ttotal: 1m 27s\tremaining: 8m 14s\n6:\tlearn: 3.1410762\ttotal: 1m 41s\tremaining: 7m 57s\n7:\tlearn: 3.1107026\ttotal: 1m 55s\tremaining: 7m 43s\n8:\tlearn: 3.0755187\ttotal: 2m 9s\tremaining: 7m 26s\n9:\tlearn: 3.0443762\ttotal: 2m 24s\tremaining: 7m 12s\n10:\tlearn: 3.0171736\ttotal: 2m 38s\tremaining: 6m 57s\n11:\tlearn: 2.9865979\ttotal: 2m 52s\tremaining: 6m 42s\n12:\tlearn: 2.9600192\ttotal: 3m 9s\tremaining: 6m 34s\n13:\tlearn: 2.9333728\ttotal: 3m 24s\tremaining: 6m 19s\n14:\tlearn: 2.9105395\ttotal: 3m 38s\tremaining: 6m 4s\n15:\tlearn: 2.8884453\ttotal: 3m 52s\tremaining: 5m 49s\n16:\tlearn: 2.8683752\ttotal: 4m 7s\tremaining: 5m 34s\n17:\tlearn: 2.8432322\ttotal: 4m 21s\tremaining: 5m 19s\n18:\tlearn: 2.8211251\ttotal: 4m 35s\tremaining: 5m 4s\n19:\tlearn: 2.7973089\ttotal: 4m 49s\tremaining: 4m 49s\n20:\tlearn: 2.7757920\ttotal: 5m 4s\tremaining: 4m 35s\n21:\tlearn: 2.7550731\ttotal: 5m 18s\tremaining: 4m 20s\n22:\tlearn: 2.7335659\ttotal: 5m 32s\tremaining: 4m 6s\n23:\tlearn: 2.7132445\ttotal: 5m 47s\tremaining: 3m 51s\n24:\tlearn: 2.6958244\ttotal: 6m 1s\tremaining: 3m 37s\n25:\tlearn: 2.6739503\ttotal: 6m 18s\tremaining: 3m 23s\n26:\tlearn: 2.6549829\ttotal: 6m 34s\tremaining: 3m 9s\n27:\tlearn: 2.6371890\ttotal: 6m 48s\tremaining: 2m 55s\n28:\tlearn: 2.6204349\ttotal: 7m 2s\tremaining: 2m 40s\n29:\tlearn: 2.6034750\ttotal: 7m 17s\tremaining: 2m 25s\n30:\tlearn: 2.5859906\ttotal: 7m 31s\tremaining: 2m 11s\n31:\tlearn: 2.5692648\ttotal: 7m 45s\tremaining: 1m 56s\n32:\tlearn: 2.5486954\ttotal: 7m 59s\tremaining: 1m 41s\n33:\tlearn: 2.5331438\ttotal: 8m 14s\tremaining: 1m 27s\n34:\tlearn: 2.5126139\ttotal: 8m 28s\tremaining: 1m 12s\n35:\tlearn: 2.4977695\ttotal: 8m 42s\tremaining: 58.1s\n36:\tlearn: 2.4840550\ttotal: 8m 56s\tremaining: 43.5s\n37:\tlearn: 2.4695801\ttotal: 9m 11s\tremaining: 29s\n38:\tlearn: 2.4554141\ttotal: 9m 26s\tremaining: 14.5s\n39:\tlearn: 2.4411916\ttotal: 9m 43s\tremaining: 0us\n"
    },
    {
     "data": {
      "text/plain": "<catboost.core.CatBoostClassifier at 0x16573fdc518>"
     },
     "execution_count": 164,
     "metadata": {},
     "output_type": "execute_result"
    }
   ],
   "source": [
    "kitty.fit(X_tr,y_tr,cat_features=categorical_features_indices)"
   ]
  },
  {
   "cell_type": "code",
   "execution_count": 165,
   "metadata": {},
   "outputs": [],
   "source": [
    "pred_class = kitty.predict(X_tst)\n",
    "pred_probs = kitty.predict_proba(X_tst)"
   ]
  },
  {
   "cell_type": "code",
   "execution_count": 166,
   "metadata": {},
   "outputs": [
    {
     "name": "stdout",
     "output_type": "stream",
     "text": "Accuracy of catboost= 0.5342312008978676\n"
    }
   ],
   "source": [
    "cat_score = score(y_tst,pred_class)\n",
    "print('Accuracy of catboost=',cat_score)"
   ]
  },
  {
   "cell_type": "code",
   "execution_count": 167,
   "metadata": {},
   "outputs": [],
   "source": [
    "imps = kitty.get_feature_importance(prettified=True)\n",
    "scrs = kitty.score(X_tst,y_tst)\n",
    "probs = kitty.predict_proba(data=(X_tst[:1]))"
   ]
  },
  {
   "cell_type": "code",
   "execution_count": 168,
   "metadata": {},
   "outputs": [],
   "source": [
    "case = X_2.iloc[1000].to_json()"
   ]
  },
  {
   "cell_type": "code",
   "execution_count": 169,
   "metadata": {},
   "outputs": [],
   "source": [
    "type(case)\n",
    "data = json.loads(case)\n",
    "game =list(data.values())"
   ]
  },
  {
   "cell_type": "code",
   "execution_count": 170,
   "metadata": {},
   "outputs": [
    {
     "data": {
      "text/plain": "[20080612,\n 0,\n 4,\n 'MIN',\n 'AL',\n 67,\n 'CLE',\n 'AL',\n 67,\n 'N',\n 126,\n 'Ron Gardenhire',\n 'Eric Wedge',\n 'Livan Hernandez',\n 'Aaron Laffey',\n 'Carlos Gomez',\n 8,\n 'Alexi Casilla',\n 4,\n 'Joe Mauer',\n 2,\n 'Justin Morneau',\n 3,\n 'Michael Cuddyer',\n 9,\n 'Jason Kubel',\n 7,\n 'Craig Monroe',\n 10,\n 'Brendan Harris',\n 6,\n 'Matt Macri',\n 5,\n 'Grady Sizemore',\n 8,\n 'Jamey Carroll',\n 4,\n 'Ben Francisco',\n 7,\n 'Ryan Garko',\n 3,\n 'David Dellucci',\n 10,\n 'Jhonny Peralta',\n 6,\n 'Shin-Soo Choo',\n 9,\n 'Casey Blake',\n 5,\n 'Kelly Shoppach',\n 2]"
     },
     "execution_count": 170,
     "metadata": {},
     "output_type": "execute_result"
    }
   ],
   "source": [
    "game"
   ]
  },
  {
   "cell_type": "code",
   "execution_count": 171,
   "metadata": {},
   "outputs": [],
   "source": [
    "prediction = kitty.predict(game)[0]\n",
    "\n",
    "out=prediction[0]\n",
    "wins = {'Win!': str(out)}\n",
    "# type(case)"
   ]
  },
  {
   "cell_type": "code",
   "execution_count": 172,
   "metadata": {},
   "outputs": [
    {
     "data": {
      "text/plain": "{'Win!': 'CLE'}"
     },
     "execution_count": 172,
     "metadata": {},
     "output_type": "execute_result"
    }
   ],
   "source": [
    "wins"
   ]
  },
  {
   "cell_type": "code",
   "execution_count": 173,
   "metadata": {},
   "outputs": [],
   "source": [
    "# Pickle the darn thing! 🥒\n",
    "import pickle \n",
    "model_name = 'cat_pickle.pkl'"
   ]
  },
  {
   "cell_type": "code",
   "execution_count": 174,
   "metadata": {},
   "outputs": [
    {
     "ename": "FileNotFoundError",
     "evalue": "[Errno 2] No such file or directory: 'cat_pickle.pkl'",
     "output_type": "error",
     "traceback": [
      "\u001b[1;31m---------------------------------------------------------------------------\u001b[0m",
      "\u001b[1;31mFileNotFoundError\u001b[0m                         Traceback (most recent call last)",
      "\u001b[1;32m<ipython-input-174-5425a6c11f8e>\u001b[0m in \u001b[0;36m<module>\u001b[1;34m\u001b[0m\n\u001b[1;32m----> 1\u001b[1;33m \u001b[0mloaded_model\u001b[0m \u001b[1;33m=\u001b[0m \u001b[0mpickle\u001b[0m\u001b[1;33m.\u001b[0m\u001b[0mload\u001b[0m\u001b[1;33m(\u001b[0m\u001b[0mopen\u001b[0m\u001b[1;33m(\u001b[0m\u001b[0mmodel_name\u001b[0m\u001b[1;33m,\u001b[0m \u001b[1;34m'rb'\u001b[0m\u001b[1;33m)\u001b[0m\u001b[1;33m)\u001b[0m\u001b[1;33m\u001b[0m\u001b[1;33m\u001b[0m\u001b[0m\n\u001b[0m\u001b[0;32m      2\u001b[0m \u001b[1;31m# result = loaded_model.score(X_tst, y_tst)\u001b[0m\u001b[1;33m\u001b[0m\u001b[1;33m\u001b[0m\u001b[1;33m\u001b[0m\u001b[0m\n\u001b[0;32m      3\u001b[0m \u001b[1;31m# print(result)\u001b[0m\u001b[1;33m\u001b[0m\u001b[1;33m\u001b[0m\u001b[1;33m\u001b[0m\u001b[0m\n",
      "\u001b[1;31mFileNotFoundError\u001b[0m: [Errno 2] No such file or directory: 'cat_pickle.pkl'"
     ]
    }
   ],
   "source": [
    "loaded_model = pickle.load(open(model_name, 'rb'))\n",
    "# result = loaded_model.score(X_tst, y_tst)\n",
    "# print(result)"
   ]
  },
  {
   "cell_type": "code",
   "execution_count": 175,
   "metadata": {},
   "outputs": [
    {
     "data": {
      "text/plain": "'{\"date\":20080612,\"game_num\":0,\"day_of_week\":4,\"visiting_team\":\"MIN\",\"visiting_team_league\":\"AL\",\"visiting_game_num\":67,\"home_team\":\"CLE\",\"home_team_league\":\"AL\",\"home_team_game_num\":67,\"day_night\":\"N\",\"park_id\":126,\"visiting_manager_name\":\"Ron Gardenhire\",\"home_manager_name\":\"Eric Wedge\",\"visiting_starting_pitcher_name\":\"Livan Hernandez\",\"home_starting_pitcher_name\":\"Aaron Laffey\",\"visiting_1_name\":\"Carlos Gomez\",\"visiting_1_pos\":8,\"visiting_2_name\":\"Alexi Casilla\",\"visiting_2_pos\":4,\"visiting_3_name\":\"Joe Mauer\",\"visiting_3_pos\":2,\"visiting_4_name\":\"Justin Morneau\",\"visiting_4_pos\":3,\"visiting_5_name\":\"Michael Cuddyer\",\"visiting_5_pos\":9,\"visiting_6_name\":\"Jason Kubel\",\"visiting_6_pos\":7,\"visiting_7_name\":\"Craig Monroe\",\"visiting_7_pos\":10,\"visiting_8_name\":\"Brendan Harris\",\"visiting_8_pos\":6,\"visiting_9_name\":\"Matt Macri\",\"visiting_9_pos\":5,\"home_1_name\":\"Grady Sizemore\",\"home_1_pos\":8,\"home_2_name\":\"Jamey Carroll\",\"home_2_pos\":4,\"home_3_name\":\"Ben Francisco\",\"home_3_pos\":7,\"home_4_name\":\"Ryan Garko\",\"home_4_pos\":3,\"home_5_name\":\"David Dellucci\",\"home_5_pos\":10,\"home_6_name\":\"Jhonny Peralta\",\"home_6_pos\":6,\"home_7_name\":\"Shin-Soo Choo\",\"home_7_pos\":9,\"home_8_name\":\"Casey Blake\",\"home_8_pos\":5,\"home_9_name\":\"Kelly Shoppach\",\"home_9_pos\":2}'"
     },
     "execution_count": 175,
     "metadata": {},
     "output_type": "execute_result"
    }
   ],
   "source": [
    "case"
   ]
  },
  {
   "cell_type": "code",
   "execution_count": 6,
   "metadata": {},
   "outputs": [],
   "source": [
    "import json\n",
    "import requests"
   ]
  },
  {
   "cell_type": "code",
   "execution_count": 7,
   "metadata": {},
   "outputs": [],
   "source": [
    "url =\" http://127.0.0.1:5000/\"\n",
    "dats = {\"date\": 20080612,\"game_num\": 0,\"day_of_week\": \"Thu\",\n",
    " \"visiting_team\": \"MIN\", \"visiting_team_league\": \"AL\",\n",
    " \"visiting_game_num\": 67, \"home_team\": \"CLE\",\n",
    " \"home_team_league\": \"AL\", \"home_team_game_num\": 67,\n",
    " \"day_night\": \"N\", \"park_id\": \"CLE08\",\n",
    " \"visiting_manager_name\": \"Ron Gardenhire\",\n",
    " \"home_manager_name\": \"Eric Wedge\",\n",
    " \"visiting_starting_pitcher_name\": \"Livan Hernandez\",\n",
    " \"home_starting_pitcher_name\": \"Aaron Laffey\",\n",
    " \"visiting_1_name\": \"Carlos Gomez\",\n",
    " \"visiting_1_pos\": 8, \"visiting_2_name\": \"Alexi Casilla\",\n",
    " \"visiting_2_pos\": 4, \"visiting_3_name\": \"Joe Mauer\",\n",
    " \"visiting_3_pos\": 2, \"visiting_4_name\": \"Justin Morneau\",\n",
    " \"visiting_4_pos\": 3, \"visiting_5_name\": \"Michael Cuddyer\",\n",
    " \"visiting_5_pos\": 9, \"visiting_6_name\": \"Jason Kubel\",\n",
    " \"visiting_6_pos\": 7, \"visiting_7_name\": \"Craig Monroe\",\n",
    " \"visiting_7_pos\": 10, \"visiting_8_name\": \"Brendan Harris\",\n",
    " \"visiting_8_pos\": 6, \"visiting_9_name\": \"Matt Macri\",\n",
    " \"visiting_9_pos\": 5, \"home_1_name\": \"Grady Sizemore\",\n",
    " \"home_1_pos\": 8, \"home_2_name\": \"Jamey Carroll\",\n",
    " \"home_2_pos\": 4, \"home_3_name\": \"Ben Francisco\",\n",
    " \"home_3_pos\": 7, \"home_4_name\": \"Ryan Garko\",\n",
    " \"home_4_pos\": 3, \"home_5_name\": \"David Dellucci\",\n",
    " \"home_5_pos\": 10, \"home_6_name\": \"Jhonny Peralta\",\n",
    " \"home_6_pos\": 6, \"home_7_name\": \"Shin-Soo Choo\",\n",
    " \"home_7_pos\": 9, \"home_8_name\": \"Casey Blake\",\n",
    " \"home_8_pos\": 5, \"home_9_name\": \"Kelly Shoppach\",\n",
    " \"home_9_pos\": 2}\n",
    " \n",
    "datsa = json.dumps(dats)"
   ]
  },
  {
   "cell_type": "code",
   "execution_count": 8,
   "metadata": {},
   "outputs": [
    {
     "name": "stdout",
     "output_type": "stream",
     "text": [
      "<Response [500]>\n"
     ]
    }
   ],
   "source": [
    "test_req = requests.post(url,datsa)\n",
    "print(test_req)"
   ]
  },
  {
   "cell_type": "code",
   "execution_count": 26,
   "metadata": {},
   "outputs": [
    {
     "name": "stderr",
     "output_type": "stream",
     "text": [
      "The system cannot find the path specified.\n",
      "The system cannot find the path specified.\n"
     ]
    }
   ],
   "source": [
    "#!cd ~"
   ]
  },
  {
   "cell_type": "code",
   "execution_count": 29,
   "metadata": {},
   "outputs": [
    {
     "name": "stdout",
     "output_type": "stream",
     "text": [
      "/c/Users/dakot/Documents/GitHub/baseball-game-prediction-ds/baseball_notebooks\n"
     ]
    },
    {
     "name": "stderr",
     "output_type": "stream",
     "text": [
      "The system cannot find the path specified.\n"
     ]
    }
   ],
   "source": [
    "!pwd"
   ]
  },
  {
   "cell_type": "code",
   "execution_count": 206,
   "metadata": {},
   "outputs": [
    {
     "data": {
      "text/plain": [
       "0.5349794238683128"
      ]
     },
     "execution_count": 206,
     "metadata": {},
     "output_type": "execute_result"
    }
   ],
   "source": [
    "imps\n",
    "scrs\n",
    "# probs"
   ]
  },
  {
   "cell_type": "code",
   "execution_count": 207,
   "metadata": {},
   "outputs": [],
   "source": [
    "# Pickle the darn thing! 🥒\n",
    "import pickle \n",
    "model_name = 'cat_pickle.pkl'"
   ]
  },
  {
   "cell_type": "code",
   "execution_count": 208,
   "metadata": {},
   "outputs": [],
   "source": [
    "model_name = 'cat_pickle.pkl'\n",
    "pickle.dump(kitty, open(model_name, 'wb'))"
   ]
  },
  {
   "cell_type": "code",
   "execution_count": 0,
   "metadata": {},
   "outputs": [],
   "source": [
    "# explainer = shap.TreeExplainer(kitty) # WHY DOES THIS TAKE SOO LONG?!?!?!?!\n",
    "# shap_values = explainer.shap_values(X_test)"
   ]
  },
  {
   "cell_type": "code",
   "execution_count": 0,
   "metadata": {},
   "outputs": [],
   "source": [
    "y_pred = l_model.predict(X_test)"
   ]
  },
  {
   "cell_type": "code",
   "execution_count": 0,
   "metadata": {},
   "outputs": [],
   "source": [
    "acc = score(y_test,y_pred)"
   ]
  },
  {
   "cell_type": "code",
   "execution_count": 0,
   "metadata": {},
   "outputs": [],
   "source": [
    "acc"
   ]
  },
  {
   "cell_type": "code",
   "execution_count": 0,
   "metadata": {},
   "outputs": [],
   "source": [
    "l_model.coef_"
   ]
  },
  {
   "cell_type": "code",
   "execution_count": 0,
   "metadata": {},
   "outputs": [],
   "source": [
    "print(list(zip(l_model.coef_[0,:], X.columns)))"
   ]
  },
  {
   "cell_type": "code",
   "execution_count": 0,
   "metadata": {},
   "outputs": [],
   "source": [
    "coef_dict = {}\n",
    "for coef, feat in zip(l_model.coef_[0,:],X.columns):\n",
    "    coef_dict[feat] = coef"
   ]
  },
  {
   "cell_type": "code",
   "execution_count": 0,
   "metadata": {},
   "outputs": [],
   "source": [
    "plt.figure(figsize=(20,20))\n",
    "\n",
    "plt.bar(*zip(*coef_dict.items()),color='orange')\n",
    "plt.xticks( X.columns, rotation='vertical', fontsize='20')\n",
    "plt.grid();\n",
    "plt.savefig('feature_coefs.png',bbox_inches='tight')"
   ]
  },
  {
   "cell_type": "code",
   "execution_count": 0,
   "metadata": {},
   "outputs": [],
   "source": [
    "pred_class"
   ]
  },
  {
   "cell_type": "code",
   "execution_count": 1,
   "metadata": {},
   "outputs": [
    {
     "name": "stdout",
     "output_type": "stream",
     "text": [
      "AB-Demo\n",
      "baseball_predict\n",
      "Baseball_predict_begin(10-3-19).ipynb\n",
      "baseball-game-prediction-ds\n",
      "cat_feature_index.43a53045-2a7bda50-7e2330d6-4aacd9f2.tmp\n",
      "cat_feature_index.7d127b97-5681c70-cbf40be0-a02adb70.tmp\n",
      "cat_feature_index.815c90cc-fc8c0611-9d00dd26-cbcdcfe5.tmp\n",
      "cat_feature_index.e1386f5e-dcf9b259-9fdbfab5-970c22cd.tmp\n",
      "cat_pickle.pkl\n",
      "catboost_info\n",
      "cb_model.json\n",
      "df_2008\n",
      "Dpgofast.github.io\n",
      "DS-Material\n",
      "DS-Sprint-02-Storytelling-With-Data\n",
      "DS-Sprint-03-Creating-Professional-Portfolios\n",
      "DS-Unit-1-Sprint-4-Statistical-Tests-and-Experiments\n",
      "DS-Unit-2-Applied-Modeling\n",
      "DS-Unit-2-Linear-Models\n",
      "DS-Unit-2-Sprint-1-Linear-Algebra\n",
      "DS-Unit-2-Sprint-2-Linear-Regression\n",
      "DS-Unit-2-Sprint-2-Regression\n",
      "DS-Unit-2-Sprint-3-Advanced-Regression\n",
      "DS-Unit-2-Sprint-3-Classification-Validation\n",
      "DS-Unit-2-Sprint-4-Model-Validation\n",
      "DS-Unit-2-Sprint-4-Practicing-Understanding\n",
      "DS-Unit-3-Sprint-1-Software-Engineering\n",
      "DS-Unit-3-Sprint-2-SQL-and-Databases\n",
      "DS-Unit-3-Sprint-3-Big-Data\n",
      "DS-Unit-3-Sprint-4-Productization-and-Cloud\n",
      "DS-Unit-4-Sprint-1-NLP\n",
      "DS-Unit-4-Sprint-2-NLP\n",
      "DS-Unit-4-Sprint-3-Deep-Learning\n",
      "DS-Unit-4-Sprint-3-Neural-Networks\n",
      "ESPN_Scraper_beginnings.ipynb\n",
      "feature_coefs.png\n",
      "Game_outcomes.ipynb\n",
      "ghub-datasci\n",
      "Lambda-projects\n",
      "lambdata\n",
      "lambdata-1\n",
      "northwind_small.sqlite\n",
      "Outcome prediction start(10-8-19).ipynb\n",
      "ryanleeallred.github.io\n",
      "Sprint2Sprintchallenge\n",
      "testrepo\n",
      "Twitteroff\n",
      "Untitled.ipynb\n",
      "week 1 repo\n",
      "weekly challenges\n",
      "The system cannot find the path specified.\n"
     ]
    }
   ],
   "source": [
    "!ls"
   ]
  },
  {
   "cell_type": "code",
   "execution_count": null,
   "metadata": {},
   "outputs": [],
   "source": []
  }
 ],
 "metadata": {
  "file_extension": ".py",
  "kernelspec": {
   "display_name": "Python 3",
   "language": "python",
   "name": "python3"
  },
  "language_info": {
   "codemirror_mode": {
    "name": "ipython",
    "version": 3
   },
   "file_extension": ".py",
   "mimetype": "text/x-python",
   "name": "python",
   "nbconvert_exporter": "python",
   "pygments_lexer": "ipython3",
   "version": "3.7.3"
  },
  "mimetype": "text/x-python",
  "name": "python",
  "npconvert_exporter": "python",
  "pygments_lexer": "ipython3",
  "version": 3
 },
 "nbformat": 4,
 "nbformat_minor": 2
}